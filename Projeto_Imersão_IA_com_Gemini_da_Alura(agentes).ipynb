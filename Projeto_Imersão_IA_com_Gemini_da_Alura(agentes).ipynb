{
  "nbformat": 4,
  "nbformat_minor": 0,
  "metadata": {
    "colab": {
      "provenance": [],
      "include_colab_link": true
    },
    "kernelspec": {
      "name": "python3",
      "display_name": "Python 3"
    },
    "language_info": {
      "name": "python"
    }
  },
  "cells": [
    {
      "cell_type": "markdown",
      "metadata": {
        "id": "view-in-github",
        "colab_type": "text"
      },
      "source": [
        "<a href=\"https://colab.research.google.com/github/alnsanches/imersao-ai-alura-google-gemini/blob/main/Projeto_Imers%C3%A3o_IA_com_Gemini_da_Alura(agentes).ipynb\" target=\"_parent\"><img src=\"https://colab.research.google.com/assets/colab-badge.svg\" alt=\"Open In Colab\"/></a>"
      ]
    },
    {
      "cell_type": "code",
      "source": [
        "%pip -q install google-genai"
      ],
      "metadata": {
        "id": "UCCbECexLk_h"
      },
      "execution_count": null,
      "outputs": []
    },
    {
      "cell_type": "code",
      "source": [
        "# Configura a API Key do Google Gemini\n",
        "\n",
        "import os\n",
        "from google.colab import userdata\n",
        "\n",
        "os.environ[\"GOOGLE_API_KEY\"] = userdata.get('GOOGLE_API_KEY')"
      ],
      "metadata": {
        "id": "NfCqHo1tLk8P"
      },
      "execution_count": null,
      "outputs": []
    },
    {
      "cell_type": "code",
      "source": [
        "# Configura o cliente da SDK do Gemini\n",
        "\n",
        "from google import genai\n",
        "\n",
        "client = genai.Client()\n",
        "\n",
        "MODEL_ID = \"gemini-2.0-flash\""
      ],
      "metadata": {
        "id": "bV4w0H5TLk5g"
      },
      "execution_count": null,
      "outputs": []
    },
    {
      "cell_type": "code",
      "source": [
        "# Pergunta ao Gemini uma informação mais recente que seu conhecimento\n",
        "\n",
        "from IPython.display import HTML, Markdown\n",
        "\n",
        "# Perguntar pro modelo quando é a melhor época do ano para viajar para a Ásia ###############################################\n",
        "resposta = client.models.generate_content(\n",
        "    model=MODEL_ID,\n",
        "    contents='Quando a melhor época do ano para viajar para a Ásia?',\n",
        ")\n",
        "\n",
        "# Exibe a resposta na tela\n",
        "display(Markdown(f\"Resposta:\\n {resposta.text}\"))"
      ],
      "metadata": {
        "colab": {
          "base_uri": "https://localhost:8080/",
          "height": 692
        },
        "id": "Y9cBAz02xZt9",
        "outputId": "37ab042b-b8cc-4a11-8006-9bb0d25b8ff2",
        "collapsed": true
      },
      "execution_count": null,
      "outputs": [
        {
          "output_type": "display_data",
          "data": {
            "text/plain": [
              "<IPython.core.display.Markdown object>"
            ],
            "text/markdown": "Resposta:\n A \"melhor\" época do ano para viajar para a Ásia depende muito de:\n\n*   **Qual parte da Ásia você pretende visitar:** A Ásia é um continente enorme com climas muito diversos. O que é perfeito para o Sudeste Asiático pode ser péssimo para o Leste Asiático, por exemplo.\n*   **Quais atividades você pretende fazer:** Relaxar na praia, fazer trilhas nas montanhas, explorar cidades? Cada atividade tem condições climáticas ideais.\n*   **Seu orçamento:** A alta temporada significa preços mais altos de voos e acomodações. A baixa temporada pode ter clima menos favorável, mas preços mais acessíveis.\n*   **Sua tolerância ao calor, umidade e multidões:** Algumas pessoas lidam bem com o calor, outras não. A alta temporada geralmente significa mais turistas.\n\n**Para te dar uma ideia geral, aqui está um resumo por região:**\n\n**Sudeste Asiático (Tailândia, Vietnã, Camboja, Laos, Malásia, Indonésia, Filipinas):**\n\n*   **Melhor época:** Novembro a fevereiro (clima mais seco e ameno).\n*   **Época de monções (chuvas):** Maio a outubro (pode haver inundações em algumas áreas).\n*   **Dica:** Cada país tem suas próprias nuances climáticas. Pesquise o clima específico do seu destino.\n\n**Leste Asiático (China, Japão, Coreia do Sul):**\n\n*   **Primavera (março a maio) e Outono (setembro a novembro):** Clima agradável, flores de cerejeira na primavera, folhagens coloridas no outono.\n*   **Verão (junho a agosto):** Quente e úmido, especialmente na China e Coreia do Sul.\n*   **Inverno (dezembro a fevereiro):** Frio, especialmente no norte da China e na Coreia do Sul. Neve é comum em algumas áreas.\n\n**Sul da Ásia (Índia, Nepal, Butão, Sri Lanka, Maldivas):**\n\n*   **Índia:**\n    *   **Norte:** Outubro a março (clima seco e ameno).\n    *   **Sul:** Dezembro a março (clima mais seco).\n    *   **Monções:** Junho a setembro (chuvas fortes, especialmente na costa oeste).\n*   **Nepal:** Outubro a novembro (melhor época para trekking no Himalaia).\n*   **Maldivas:** Novembro a abril (estação seca).\n\n**Ásia Central (Cazaquistão, Uzbequistão, Quirguistão, Turcomenistão, Tajiquistão):**\n\n*   **Melhor época:** Abril a maio e setembro a outubro (clima ameno).\n*   **Verão (junho a agosto):** Quente e seco.\n*   **Inverno (novembro a março):** Frio e com neve em algumas áreas.\n\n**Recomendações:**\n\n*   **Pesquise o clima específico do seu destino:** Use sites como AccuWeather ou Climate-Data.org para obter informações detalhadas sobre as temperaturas médias, precipitação e umidade.\n*   **Considere festivais e eventos:** Muitas regiões da Ásia têm festivais incríveis que valem a pena planejar sua viagem em torno deles.\n*   **Seja flexível:** Esteja preparado para ajustar seus planos caso o clima não coopere.\n\nSe você puder me dizer para qual país ou região específica da Ásia você está planejando ir, posso te dar informações mais precisas!"
          },
          "metadata": {}
        }
      ]
    },
    {
      "cell_type": "code",
      "source": [
        "# Pergunta ao Gemini uma informação utilizando a busca do Google como contexto\n",
        "\n",
        "response = client.models.generate_content(\n",
        "    model=MODEL_ID,\n",
        "    contents='Qual a sua recomedação para eu fazer a minha viagem para a Ásia?',\n",
        "    config={\"tools\": [{\"google_search\": {}}]}\n",
        ")\n",
        "\n",
        "# Exibe a resposta na tela\n",
        "display(Markdown(f\"Resposta:\\n {response.text}\"))"
      ],
      "metadata": {
        "colab": {
          "base_uri": "https://localhost:8080/",
          "height": 900
        },
        "id": "lc2JPA92xbnp",
        "outputId": "a83233d6-0fe0-4467-8c2a-492830cd4f05",
        "collapsed": true
      },
      "execution_count": null,
      "outputs": [
        {
          "output_type": "display_data",
          "data": {
            "text/plain": [
              "<IPython.core.display.Markdown object>"
            ],
            "text/markdown": "Resposta:\n Para fazer uma recomendação para a sua viagem para a Ásia, preciso de mais informações sobre o que você procura! Aqui estão algumas perguntas para me ajudar a entender suas preferências:\n\n*   **Qual é o seu orçamento?** (Econômico, médio, luxuoso?)\n*   **Quanto tempo você tem para a viagem?** (Uma semana, um mês, mais?)\n*   **Quais são seus interesses?** (História, cultura, natureza, aventura, comida, vida noturna, compras?)\n*   **Que tipo de experiência você está buscando?** (Relaxante, agitada, autêntica, turística?)\n*   **Você prefere visitar um país só ou explorar vários?**\n*   **Você tem alguma restrição de saúde ou mobilidade?**\n*   **Você já viajou para a Ásia antes? Se sim, para onde?**\n*   **Quando você pretende viajar?** (A época do ano pode influenciar muito a sua experiência, dependendo do clima e dos festivais.)\n\nEnquanto isso, posso dar algumas sugestões gerais:\n\n*   **Para cultura e história:**\n    *   **Japão:** Templos, santuários, jardins, cidades vibrantes como Tóquio e Kyoto.\n    *   **China:** A Grande Muralha, a Cidade Proibida, os Guerreiros de Terracota, paisagens deslumbrantes.\n    *   **Índia:** Taj Mahal, templos antigos, cidades vibrantes como Delhi e Mumbai.\n    *   **Coreia do Sul:** Palácios, vilas tradicionais, a vibrante Seul.\n*   **Para natureza e aventura:**\n    *   **Tailândia:** Praias paradisíacas, selvas exuberantes, templos budistas.\n    *   **Vietnã:** Paisagens deslumbrantes, como a Baía de Ha Long, cidades históricas, comida deliciosa.\n    *   **Indonésia:** Praias vulcânicas, florestas tropicais, a cultura única de Bali.\n    *   **Nepal:** Trekking no Himalaia, paisagens montanhosas incríveis.\n*   **Para uma mistura de tudo:**\n    *   **Malásia:** Uma mistura de culturas, culinária diversificada, cidades modernas e praias paradisíacas.\n    *   **Singapura:** Uma cidade-estado moderna e vibrante, com uma culinária incrível e atrações para todos os gostos.\n\nPara te dar uma recomendação mais personalizada, preciso de mais detalhes sobre o que você procura em sua viagem.\n\nCom base nas informações mais recentes, aqui estão alguns dos melhores destinos na Ásia para 2025:\n\n*   **Udaipur, Índia:** Conhecida como a \"cidade dos lagos\", Udaipur oferece paisagens deslumbrantes, palácios históricos e uma rica cultura. É um destino perfeito para quem busca uma experiência autêntica e romântica na Índia.\n*   **Kyoto, Japão:** A antiga capital do Japão, Kyoto, é famosa por seus templos, santuários, jardins e atmosfera tradicional. É um destino imperdível para quem deseja conhecer a cultura japonesa em profundidade.\n*   **Hoi An, Vietnã:** Esta cidade histórica encanta com suas ruas iluminadas por lanternas, arquitetura charmosa e culinária deliciosa. É um destino ideal para quem busca uma experiência cultural autêntica e relaxante no Vietnã.\n*   **Chiang Mai, Tailândia:** Localizada no norte da Tailândia, Chiang Mai oferece uma combinação de natureza exuberante, templos antigos e festivais vibrantes. É um destino perfeito para quem busca aventura, cultura e relaxamento na Tailândia.\n*   **Bangkok, Tailândia:** A capital da Tailândia é uma cidade vibrante e cosmopolita, com templos deslumbrantes, mercados animados, vida noturna agitada e uma culinária incrível. É um destino imperdível para quem busca uma experiência urbana emocionante na Ásia.\n\nPara mais inspiração, aqui estão alguns outros destinos asiáticos populares:\n\n*   **Tóquio, Japão:** Uma metrópole moderna e vibrante, com atrações para todos os gostos, desde templos antigos a museus de arte contemporânea.\n*   **Bali, Indonésia:** Uma ilha paradisíaca com praias vulcânicas, florestas tropicais e uma cultura única.\n*   **Pequim, China:** A capital da China é uma cidade histórica com muitos pontos turísticos famosos, como a Cidade Proibida e a Grande Muralha da China.\n\nA melhor época para viajar para a Ásia depende do destino específico e do clima que você prefere. No entanto, em geral, a estação seca (de novembro a abril) é considerada a melhor época para visitar muitos países do Sudeste Asiático, como Tailândia, Laos, Camboja e Vietnã. A primavera (de março a maio) também é uma boa época para visitar alguns países da Ásia, como o Japão e a Coreia do Sul, quando as temperaturas são amenas e as cerejeiras estão em flor.\n\nÉ importante lembrar que a Ásia é um continente vasto e diversificado, com uma grande variedade de culturas, paisagens e climas. Portanto, é importante fazer uma pesquisa detalhada e planejar sua viagem com antecedência para garantir que você tenha uma experiência inesquecível.\n"
          },
          "metadata": {}
        }
      ]
    },
    {
      "cell_type": "code",
      "source": [
        "from IPython.display import HTML, display\n",
        "\n",
        "def exibir_informacoes_grounding(response):\n",
        "    try:\n",
        "        candidate = response.candidates[0]\n",
        "        metadata = candidate.grounding_metadata\n",
        "\n",
        "        # Busca realizada\n",
        "        busca = metadata.web_search_queries or \"Nenhuma busca realizada\"\n",
        "        print(f\"🔍 Busca realizada: {busca}\")\n",
        "\n",
        "        # Páginas utilizadas\n",
        "        grounding_chunks = metadata.grounding_chunks\n",
        "        if grounding_chunks:\n",
        "            paginas = ', '.join([site.web.title for site in grounding_chunks])\n",
        "        else:\n",
        "            paginas = \"Nenhuma página utilizada\"\n",
        "        print(f\"🌐 Páginas utilizadas na resposta: {paginas}\\n\")\n",
        "\n",
        "        # Conteúdo HTML, se houver\n",
        "        if metadata.search_entry_point:\n",
        "            display(HTML(metadata.search_entry_point.rendered_content))\n",
        "        else:\n",
        "            print(\"❌ Nenhum conteúdo HTML disponível para exibição.\")\n",
        "\n",
        "    except Exception as e:\n",
        "        print(f\"⚠️ Erro ao exibir informações: {e}\")\n"
      ],
      "metadata": {
        "id": "6Cg0KNJGMgC5"
      },
      "execution_count": null,
      "outputs": []
    },
    {
      "cell_type": "code",
      "source": [
        "# Instalar Framework de agentes do Google ################################################\n",
        "!pip install -q google-adk"
      ],
      "metadata": {
        "colab": {
          "base_uri": "https://localhost:8080/"
        },
        "id": "a1eRPalxEnj7",
        "outputId": "f98d8427-dd4d-436d-a294-d6571ec517e5",
        "collapsed": true
      },
      "execution_count": null,
      "outputs": [
        {
          "output_type": "stream",
          "name": "stdout",
          "text": [
            "\u001b[?25l   \u001b[90m━━━━━━━━━━━━━━━━━━━━━━━━━━━━━━━━━━━━━━━━\u001b[0m \u001b[32m0.0/1.2 MB\u001b[0m \u001b[31m?\u001b[0m eta \u001b[36m-:--:--\u001b[0m\r\u001b[2K   \u001b[91m━━━━━━━━━━━━━━━━━━━━━━\u001b[0m\u001b[90m╺\u001b[0m\u001b[90m━━━━━━━━━━━━━━━━━\u001b[0m \u001b[32m0.7/1.2 MB\u001b[0m \u001b[31m19.8 MB/s\u001b[0m eta \u001b[36m0:00:01\u001b[0m\r\u001b[2K   \u001b[90m━━━━━━━━━━━━━━━━━━━━━━━━━━━━━━━━━━━━━━━━\u001b[0m \u001b[32m1.2/1.2 MB\u001b[0m \u001b[31m17.6 MB/s\u001b[0m eta \u001b[36m0:00:00\u001b[0m\n",
            "\u001b[?25h\u001b[?25l   \u001b[90m━━━━━━━━━━━━━━━━━━━━━━━━━━━━━━━━━━━━━━━━\u001b[0m \u001b[32m0.0/232.1 kB\u001b[0m \u001b[31m?\u001b[0m eta \u001b[36m-:--:--\u001b[0m\r\u001b[2K   \u001b[90m━━━━━━━━━━━━━━━━━━━━━━━━━━━━━━━━━━━━━━━━\u001b[0m \u001b[32m232.1/232.1 kB\u001b[0m \u001b[31m13.3 MB/s\u001b[0m eta \u001b[36m0:00:00\u001b[0m\n",
            "\u001b[?25h\u001b[?25l   \u001b[90m━━━━━━━━━━━━━━━━━━━━━━━━━━━━━━━━━━━━━━━━\u001b[0m \u001b[32m0.0/95.2 kB\u001b[0m \u001b[31m?\u001b[0m eta \u001b[36m-:--:--\u001b[0m\r\u001b[2K   \u001b[90m━━━━━━━━━━━━━━━━━━━━━━━━━━━━━━━━━━━━━━━━\u001b[0m \u001b[32m95.2/95.2 kB\u001b[0m \u001b[31m5.8 MB/s\u001b[0m eta \u001b[36m0:00:00\u001b[0m\n",
            "\u001b[?25h\u001b[?25l   \u001b[90m━━━━━━━━━━━━━━━━━━━━━━━━━━━━━━━━━━━━━━━━\u001b[0m \u001b[32m0.0/217.1 kB\u001b[0m \u001b[31m?\u001b[0m eta \u001b[36m-:--:--\u001b[0m\r\u001b[2K   \u001b[90m━━━━━━━━━━━━━━━━━━━━━━━━━━━━━━━━━━━━━━━━\u001b[0m \u001b[32m217.1/217.1 kB\u001b[0m \u001b[31m13.1 MB/s\u001b[0m eta \u001b[36m0:00:00\u001b[0m\n",
            "\u001b[?25h\u001b[?25l   \u001b[90m━━━━━━━━━━━━━━━━━━━━━━━━━━━━━━━━━━━━━━━━\u001b[0m \u001b[32m0.0/334.1 kB\u001b[0m \u001b[31m?\u001b[0m eta \u001b[36m-:--:--\u001b[0m\r\u001b[2K   \u001b[90m━━━━━━━━━━━━━━━━━━━━━━━━━━━━━━━━━━━━━━━━\u001b[0m \u001b[32m334.1/334.1 kB\u001b[0m \u001b[31m20.3 MB/s\u001b[0m eta \u001b[36m0:00:00\u001b[0m\n",
            "\u001b[2K   \u001b[90m━━━━━━━━━━━━━━━━━━━━━━━━━━━━━━━━━━━━━━━━\u001b[0m \u001b[32m125.1/125.1 kB\u001b[0m \u001b[31m7.6 MB/s\u001b[0m eta \u001b[36m0:00:00\u001b[0m\n",
            "\u001b[2K   \u001b[90m━━━━━━━━━━━━━━━━━━━━━━━━━━━━━━━━━━━━━━━━\u001b[0m \u001b[32m65.8/65.8 kB\u001b[0m \u001b[31m3.5 MB/s\u001b[0m eta \u001b[36m0:00:00\u001b[0m\n",
            "\u001b[2K   \u001b[90m━━━━━━━━━━━━━━━━━━━━━━━━━━━━━━━━━━━━━━━━\u001b[0m \u001b[32m119.0/119.0 kB\u001b[0m \u001b[31m8.0 MB/s\u001b[0m eta \u001b[36m0:00:00\u001b[0m\n",
            "\u001b[2K   \u001b[90m━━━━━━━━━━━━━━━━━━━━━━━━━━━━━━━━━━━━━━━━\u001b[0m \u001b[32m194.9/194.9 kB\u001b[0m \u001b[31m12.1 MB/s\u001b[0m eta \u001b[36m0:00:00\u001b[0m\n",
            "\u001b[2K   \u001b[90m━━━━━━━━━━━━━━━━━━━━━━━━━━━━━━━━━━━━━━━━\u001b[0m \u001b[32m62.5/62.5 kB\u001b[0m \u001b[31m3.7 MB/s\u001b[0m eta \u001b[36m0:00:00\u001b[0m\n",
            "\u001b[2K   \u001b[90m━━━━━━━━━━━━━━━━━━━━━━━━━━━━━━━━━━━━━━━━\u001b[0m \u001b[32m103.3/103.3 kB\u001b[0m \u001b[31m5.7 MB/s\u001b[0m eta \u001b[36m0:00:00\u001b[0m\n",
            "\u001b[2K   \u001b[90m━━━━━━━━━━━━━━━━━━━━━━━━━━━━━━━━━━━━━━━━\u001b[0m \u001b[32m44.4/44.4 kB\u001b[0m \u001b[31m2.7 MB/s\u001b[0m eta \u001b[36m0:00:00\u001b[0m\n",
            "\u001b[2K   \u001b[90m━━━━━━━━━━━━━━━━━━━━━━━━━━━━━━━━━━━━━━━━\u001b[0m \u001b[32m72.0/72.0 kB\u001b[0m \u001b[31m4.7 MB/s\u001b[0m eta \u001b[36m0:00:00\u001b[0m\n",
            "\u001b[?25h"
          ]
        }
      ]
    },
    {
      "cell_type": "code",
      "execution_count": null,
      "metadata": {
        "id": "aePV2bdfDeoW"
      },
      "outputs": [],
      "source": [
        "from google.adk.agents import Agent\n",
        "from google.adk.runners import Runner\n",
        "from google.adk.sessions import InMemorySessionService\n",
        "from google.adk.tools import google_search\n",
        "from google.genai import types  # Para criar conteúdos (Content e Part)\n",
        "from datetime import date\n",
        "import textwrap # Para formatar melhor a saída de texto\n",
        "from IPython.display import display, Markdown # Para exibir texto formatado no Colab\n",
        "import requests # Para fazer requisições HTTP\n",
        "import warnings\n",
        "\n",
        "warnings.filterwarnings(\"ignore\")"
      ]
    },
    {
      "cell_type": "code",
      "source": [
        "# Função auxiliar que envia uma mensagem para um agente via Runner e retorna a resposta final\n",
        "def call_agent(agent: Agent, message_text: str) -> str:\n",
        "    # Cria um serviço de sessão em memória\n",
        "    session_service = InMemorySessionService()\n",
        "    # Cria uma nova sessão (você pode personalizar os IDs conforme necessário)\n",
        "    session = session_service.create_session(app_name=agent.name, user_id=\"user1\", session_id=\"session1\")\n",
        "    # Cria um Runner para o agente\n",
        "    runner = Runner(agent=agent, app_name=agent.name, session_service=session_service)\n",
        "    # Cria o conteúdo da mensagem de entrada\n",
        "    content = types.Content(role=\"user\", parts=[types.Part(text=message_text)])\n",
        "\n",
        "    final_response = \"\"\n",
        "    # Itera assincronamente pelos eventos retornados durante a execução do agente\n",
        "    for event in runner.run(user_id=\"user1\", session_id=\"session1\", new_message=content):\n",
        "        if event.is_final_response():\n",
        "          for part in event.content.parts:\n",
        "            if part.text is not None:\n",
        "              final_response += part.text\n",
        "              final_response += \"\\n\"\n",
        "    return final_response"
      ],
      "metadata": {
        "id": "_xP4lWhsS5ko"
      },
      "execution_count": null,
      "outputs": []
    },
    {
      "cell_type": "code",
      "source": [
        "# Função auxiliar para exibir texto formatado em Markdown no Colab\n",
        "def to_markdown(text):\n",
        "  text = text.replace('•', '  *')\n",
        "  return Markdown(textwrap.indent(text, '> ', predicate=lambda _: True))"
      ],
      "metadata": {
        "id": "8dosiodaxfFR"
      },
      "execution_count": null,
      "outputs": []
    },
    {
      "cell_type": "code",
      "source": [
        "##########################################\n",
        "# --- Agente 1: Buscador de Notícias --- #\n",
        "##########################################\n",
        "def agente_buscador(topico, data_de_hoje):\n",
        "\n",
        "    buscador = Agent(\n",
        "        name=\"agente_buscador\",\n",
        "        model=\"gemini-2.0-flash\",\n",
        "        instruction=f\"\"\"\n",
        "        Você é um assistente de pesquisa especializado em viagens para {topico}.\n",
        "        Sua tarefa é usar a ferramenta `google_search` para encontrar as 5 notícias ou lançamentos mais recentes e relevantes sobre viagens para {topico}, com foco em informações publicadas no máximo um mês antes de {data_de_hoje}.\n",
        "\n",
        "        Realize uma busca detalhada no Google com termos relevantes como \"novidades turismo {topico}\", \"eventos {topico} {data_de_hoje}\", \"lançamentos atrações {topico}\", \"regras entrada {topico}\", \"transporte {topico} atualizações\".\n",
        "\n",
        "        Liste os resultados encontrados de forma concisa, destacando os pontos mais importantes para um viajante.\n",
        "        \"\"\",\n",
        "        description=\"Agente que busca informações no Google sobre viagens\",\n",
        "        tools=[google_search]\n",
        "    )\n",
        "\n",
        "    entrada_do_agente_buscador = f\"Buscar novidades sobre viagens para {topico} até {data_de_hoje}.\"\n",
        "\n",
        "    lancamentos = call_agent(buscador, entrada_do_agente_buscador)\n",
        "    return lancamentos"
      ],
      "metadata": {
        "id": "o8bqIfi_DyH8"
      },
      "execution_count": 55,
      "outputs": []
    },
    {
      "cell_type": "code",
      "source": [
        "################################################\n",
        "# --- Agente 2: Planejador de Viagem --- #\n",
        "################################################\n",
        "def agente_planejador(topico, lancamentos_buscados):\n",
        "    planejador = Agent(\n",
        "        name=\"agente_planejador\",\n",
        "        model=\"gemini-2.0-flash\",\n",
        "        instruction=f\"\"\"\n",
        "        Você é um planejador de informações de viagem especializado em {topico}.\n",
        "        Com base nos seguintes tópicos e informações recentes encontrados pelo Agente Buscador:\n",
        "        {lancamentos_buscados}\n",
        "\n",
        "        Sua tarefa é analisar cada tópico e:\n",
        "        1. Usar a ferramenta `google_search` para obter mais detalhes práticos e inspiradores sobre cada ponto (dicas de locais, horários, custos, links úteis, etc.).\n",
        "        2. Para cada tópico, gerar um resumo conciso e útil para o usuário, incluindo:\n",
        "           - O ponto principal do tópico.\n",
        "           - Detalhes relevantes e práticos para o viajante.\n",
        "           - Sugestões de como o usuário pode aproveitar essa informação em sua viagem.\n",
        "\n",
        "        Ao final, selecione o tema mais relevante e útil para um viajante interessado em {topico}, justificando sua escolha e apresentando um breve plano de informações (título, principais detalhes, recomendações).\n",
        "        \"\"\",\n",
        "        description=\"Agente planejador da viagem\",\n",
        "        tools=[google_search]\n",
        "    )\n",
        "\n",
        "    entrada_do_agente_planejador = f\"Planejar informações úteis para os seguintes tópicos sobre {topico}:\\n{lancamentos_buscados}\"\n",
        "    plano_do_post = call_agent(planejador, entrada_do_agente_planejador)\n",
        "    return plano_do_post"
      ],
      "metadata": {
        "id": "y3VO1uo5_ghO"
      },
      "execution_count": 62,
      "outputs": []
    },
    {
      "cell_type": "code",
      "source": [
        "#########################################\n",
        "# --- Agente 3: Informativo Viagem --- #\n",
        "#########################################\n",
        "def agente_redator(topico, plano_de_post, destino):\n",
        "    redator = Agent(\n",
        "        name=\"agente_redator\",\n",
        "        model=\"gemini-2.0-flash\",\n",
        "        instruction=f\"\"\"\n",
        "            Você é um assistente de viagem especializado em fornecer resumos informativos e práticos sobre destinos turísticos.\n",
        "\n",
        "            Sua missão é criar um resumo conciso e útil para viajantes interessados em {destino}.\n",
        "\n",
        "            Com base nas informações básicas fornecidas sobre {destino} (moeda, clima, idioma, necessidade de visto) e no plano de detalhes da viagem:\n",
        "            {plano_de_post}\n",
        "\n",
        "            Redija um texto que inclua:\n",
        "            - A moeda local utilizada em {destino}.\n",
        "            - Uma descrição breve do clima típico ou da melhor época para visitar {destino}.\n",
        "            - O idioma oficial ou os idiomas mais falados em {destino}.\n",
        "            - Uma indicação clara sobre a necessidade de visto para entrada em {destino} (assumindo que o país de origem do viajante é desconhecido, então forneça uma orientação geral ou a necessidade de verificar).\n",
        "\n",
        "            O texto deve ser informativo, direto e fácil de entender para alguém planejando uma viagem.\n",
        "            \"\"\",\n",
        "        description=\"Agente redator de resumos informativos para planejamento de viagem\"\n",
        "    )\n",
        "    entrada_do_agente_redator = f\"Resumir informações básicas sobre {destino} com base no seguinte plano:\\n{plano_de_post}\"\n",
        "    rascunho = call_agent(redator, entrada_do_agente_redator)\n",
        "    return rascunho"
      ],
      "metadata": {
        "id": "uOqlg2TRLVh1"
      },
      "execution_count": 63,
      "outputs": []
    },
    {
      "cell_type": "code",
      "source": [
        "##########################################\n",
        "# --- Agente 4: Resumo da Viagem --- #\n",
        "##########################################\n",
        "def agente_revisor(topico, rascunho_gerado):\n",
        "    revisor = Agent(\n",
        "        name=\"agente_revisor\",\n",
        "        model=\"gemini-2.0-flash\",\n",
        "        instruction=f\"\"\"\n",
        "            Você é um agente de viagens e quero que me informe tudo de forma suscinta para quem deseja viajar para {topico}, incluindo todas as informações importantes para o usuário não ficar perdido.\n",
        "            \"\"\",\n",
        "        description=\"Agente do resumo da viagem\"\n",
        "    )\n",
        "    entrada_do_agente_revisor = f\"Revisar o seguinte rascunho sobre viagem para {topico}:\\n{rascunho_gerado}\"\n",
        "    texto_revisado = call_agent(revisor, entrada_do_agente_revisor)\n",
        "    return texto_revisado"
      ],
      "metadata": {
        "id": "_aTb1SdkLeT6"
      },
      "execution_count": 64,
      "outputs": []
    },
    {
      "cell_type": "code",
      "source": [
        "data_de_hoje = date.today().strftime(\"%d/%m/%Y\")\n",
        "\n",
        "print(\"✈️ Iniciando o Sistema de Informações para sua Viagem 🌍\")\n",
        "\n",
        "topico = input(\"❓ Para qual DESTINO você gostaria de obter informações de viagem? \")\n",
        "\n",
        "if not topico:\n",
        "    print(\"Você esqueceu de digitar o tópico!\")\n",
        "else:\n",
        "    print(f\"Maravilha! Vamos buscar informações relevantes para o país escolhido: {topico}\")\n",
        "\n",
        "    lancamentos_buscados = agente_buscador(topico, data_de_hoje)\n",
        "    print(\"\\n--- 📝 Resultado do Agente 1 (Buscador) ---\\n\")\n",
        "    display(to_markdown(lancamentos_buscados))\n",
        "    print(\"--------------------------------------------------------------\")\n",
        "\n",
        "    plano_de_post = agente_planejador(topico, lancamentos_buscados)\n",
        "    print(\"\\n--- 📝 Resultado do Agente 2 (Planejador) ---\\n\")\n",
        "    display(to_markdown(plano_de_post))\n",
        "    print(\"--------------------------------------------------------------\")\n",
        "\n",
        "    rascunho_de_post = agente_redator(topico, plano_de_post, topico)\n",
        "    print(\"\\n--- 📝 Resultado do Agente 3 (Redator) ---\\n\")\n",
        "    display(to_markdown(rascunho_de_post))\n",
        "    print(\"--------------------------------------------------------------\")\n",
        "\n",
        "    post_final = agente_revisor(topico, rascunho_de_post)\n",
        "    print(\"\\n--- 📝 Resultado do Agente 4 (Revisor) ---\\n\")\n",
        "    display(to_markdown(post_final))\n",
        "    print(\"--------------------------------------------------------------\")"
      ],
      "metadata": {
        "id": "6xzI6LKzxxnN",
        "colab": {
          "base_uri": "https://localhost:8080/",
          "height": 1000
        },
        "outputId": "66f8d67d-c1a0-43e5-9fad-0a051dbb4036"
      },
      "execution_count": 65,
      "outputs": [
        {
          "output_type": "stream",
          "name": "stdout",
          "text": [
            "✈️ Iniciando o Sistema de Informações para sua Viagem 🌍\n",
            "❓ Para qual DESTINO você gostaria de obter informações de viagem? coreia do sul\n",
            "Maravilha! Vamos buscar informações relevantes para o país escolhido: coreia do sul\n",
            "\n",
            "--- 📝 Resultado do Agente 1 (Buscador) ---\n",
            "\n"
          ]
        },
        {
          "output_type": "display_data",
          "data": {
            "text/plain": [
              "<IPython.core.display.Markdown object>"
            ],
            "text/markdown": "> Aqui estão as 5 principais novidades e informações relevantes para viagens à Coreia do Sul, com foco em lançamentos e atualizações recentes até 17 de maio de 2025:\n> \n> 1.  **Semana de Boas-Vindas à Coreia 2025 (25 de abril a 16 de maio):** O governo sul-coreano lançou a \"Semana de Boas-Vindas à Coreia 2025\" para melhorar a experiência dos turistas estrangeiros. A iniciativa oferece estandes de boas-vindas multilíngues, workshops de artesanato, informações úteis sobre viagens, ofertas exclusivas e assistência em tempo real.\n> \n> 2.  **Novo Passe Turístico K-Culture Pass (A partir de 1º de julho de 2025):** Um novo passe turístico chamado \"K-Culture Pass\" estará disponível, oferecendo descontos de até 50% em mais de 50 locais culturais em toda a Coreia do Sul, incluindo museus, palácios e outras atrações. O passe é válido por um ano e permite tarifas reduzidas para o titular e até três acompanhantes.\n> \n> 3.  **Crescimento do Turismo Brasileiro:** O turismo na Coreia do Sul teve um crescimento de 35% entre os brasileiros em 2024, com um total de 30 mil visitantes. A Korea Tourism Organization (KTO) tem como meta manter essa média de crescimento em 2025, diversificando as experiências e promovendo o \"understated luxury\", que valoriza design, tradição, história e hospitalidade.\n> \n> 4.  **Regras para Transporte de Power Banks:** As regras para o transporte de power banks em voos internacionais foram reforçadas. Passageiros devem transportar power banks apenas na bagagem de mão, protegidos individualmente para evitar curtos-circuitos, e não podem ser recarregados a bordo. A Coreia do Sul também reforçou seus protocolos após um incidente em um voo, limitando o número e o tipo de baterias que podem ser transportadas.\n> \n> 5.  **K-ETA e Declaração de Entrada Online:** Cidadãos portugueses estão temporariamente isentos da K-ETA (Autorização Eletrônica de Viagem) para estadias de curta duração (inferior a 90 dias) até o final de 2025. No entanto, um sistema eletrónico para Declaração de Entrada Online, intitulado e-Arrival Card, entrou em vigor no dia 24 de fevereiro de 2025, e deve ser preenchida até 3 dias antes da chegada.\n> \n"
          },
          "metadata": {}
        },
        {
          "output_type": "stream",
          "name": "stdout",
          "text": [
            "--------------------------------------------------------------\n",
            "\n",
            "--- 📝 Resultado do Agente 2 (Planejador) ---\n",
            "\n"
          ]
        },
        {
          "output_type": "display_data",
          "data": {
            "text/plain": [
              "<IPython.core.display.Markdown object>"
            ],
            "text/markdown": "> Okay, vou planejar informações úteis sobre os tópicos que você forneceu para viajantes interessados na Coreia do Sul.\n> \n> \n> Perfeito! Aqui está um resumo conciso e útil de cada tópico para viajantes interessados na Coreia do Sul, juntamente com sugestões de como aproveitar essas informações:\n> \n> **1. Semana de Boas-Vindas à Coreia 2025 (25 de abril a 16 de maio):**\n> \n> *   **Ponto Principal:** Iniciativa do governo para aprimorar a experiência de turistas estrangeiros.\n> *   **Detalhes Práticos:** Estandes multilíngues, workshops de artesanato, informações úteis, ofertas exclusivas e assistência em tempo real.\n> *   **Como Aproveitar:** Se sua viagem coincidir com a Semana de Boas-Vindas, procure os estandes de boas-vindas para obter informações, participar de workshops e aproveitar ofertas especiais. Verifique os locais dos estandes no site oficial de turismo da Coreia.\n> \n> **2. Novo Passe Turístico K-Culture Pass (A partir de 1º de julho de 2025):**\n> \n> *   **Ponto Principal:** Passe turístico que oferece descontos em locais culturais.\n> *   **Detalhes Práticos:** Descontos de até 50% em mais de 50 locais culturais (museus, palácios, etc.). Válido por um ano, com tarifas reduzidas para o titular e até três acompanhantes.\n> *   **Como Aproveitar:** Se você planeja visitar vários locais culturais, compre o K-Culture Pass para economizar. Planeje seu roteiro com antecedência para maximizar os benefícios do passe.\n> \n> **3. Crescimento do Turismo Brasileiro:**\n> \n> *   **Ponto Principal:** Aumento do turismo brasileiro na Coreia do Sul.\n> *   **Detalhes Práticos:** Crescimento de 35% em 2024, com 30 mil visitantes. A KTO busca manter esse crescimento em 2025, promovendo experiências diversificadas e \"understated luxury\".\n> *   **Como Aproveitar:** Descubra o que atrai tantos brasileiros à Coreia do Sul! Explore design, tradição, história e hospitalidade coreanas. A KTO Brasil pode oferecer informações e roteiros específicos para brasileiros.\n> \n> **4. Regras para Transporte de Power Banks:**\n> \n> *   **Ponto Principal:** Regras reforçadas para o transporte de power banks em voos.\n> *   **Detalhes Práticos:** Power banks devem ser transportados na bagagem de mão, protegidos individualmente para evitar curtos-circuitos, e não podem ser recarregados a bordo. Há limites para o número e tipo de baterias.\n> *   **Como Aproveitar:** Embale seus power banks corretamente e esteja ciente das restrições para evitar problemas no aeroporto. Verifique as regras da sua companhia aérea e do aeroporto de partida.\n> \n> **5. K-ETA e Declaração de Entrada Online:**\n> \n> *   **Ponto Principal:** Isenção temporária de K-ETA para cidadãos portugueses e novo sistema de Declaração de Entrada Online.\n> *   **Detalhes Práticos:** Cidadãos portugueses estão isentos da K-ETA para estadias de curta duração (até 90 dias) até o final de 2025. O e-Arrival Card deve ser preenchido até 3 dias antes da chegada.\n> *   **Como Aproveitar:** Se você é cidadão português, aproveite a isenção da K-ETA, mas não se esqueça de preencher o e-Arrival Card online antes da sua viagem.\n> \n> **Tema Mais Relevante e Útil:**\n> \n> O tema mais relevante e útil para um viajante interessado na Coreia do Sul é o **Novo Passe Turístico K-Culture Pass**.\n> \n> *   **Justificativa:** Oferece benefícios financeiros diretos e incentiva a exploração da rica cultura coreana. É prático e pode ser facilmente incorporado ao planejamento da viagem.\n> \n> **Plano de Informações: K-Culture Pass - Seu Portal para a Cultura Coreana com Desconto**\n> \n> *   **Principais Detalhes:**\n>     *   O que é: Um passe turístico que oferece até 50% de desconto em mais de 50 locais culturais na Coreia do Sul.\n>     *   Quando estará disponível: A partir de 1º de julho de 2025.\n>     *   Onde usar: Museus, palácios, templos e outras atrações culturais em todo o país.\n>     *   Validade: Um ano a partir da data da compra.\n>     *   Benefícios: Descontos para o titular e até três acompanhantes.\n> *   **Recomendações:**\n>     *   Planeje seu roteiro cultural com antecedência, identificando os locais que você deseja visitar e que aceitam o K-Culture Pass.\n>     *   Verifique os preços normais das entradas e calcule a economia potencial com o passe.\n>     *   Compre o passe online ou em postos de turismo credenciados após 1º de julho de 2025.\n>     *   Tenha o passe sempre à mão durante suas visitas e apresente-o na bilheteria para obter o desconto.\n>     *   Compartilhe os benefícios com seus acompanhantes para maximizar a economia.\n>     *   Consulte o site oficial do turismo coreano para obter uma lista atualizada dos locais participantes e outras informações importantes sobre o K-Culture Pass.\n>     * Explore Seul com um Passeio Turístico Guiado em Seoul.\n>     * Visite K-pop pontos turísticos para fãs\n> \n"
          },
          "metadata": {}
        },
        {
          "output_type": "stream",
          "name": "stdout",
          "text": [
            "--------------------------------------------------------------\n",
            "\n",
            "--- 📝 Resultado do Agente 3 (Redator) ---\n",
            "\n"
          ]
        },
        {
          "output_type": "display_data",
          "data": {
            "text/plain": [
              "<IPython.core.display.Markdown object>"
            ],
            "text/markdown": "> ## Planejando sua Viagem para a Coreia do Sul: Informações Essenciais\n> \n> Se você está pensando em visitar a Coreia do Sul, aqui estão algumas informações básicas para te ajudar no planejamento:\n> \n> *   **Moeda:** A moeda oficial da Coreia do Sul é o Won sul-coreano (KRW).\n> *   **Clima e Melhor Época para Visitar:** A Coreia do Sul tem quatro estações distintas. A primavera (abril-maio) e o outono (setembro-outubro) são geralmente considerados os melhores momentos para visitar, com temperaturas amenas e paisagens deslumbrantes. O verão (junho-agosto) pode ser quente e úmido, enquanto o inverno (novembro-março) é frio e seco, ideal para quem gosta de esportes de inverno.\n> *   **Idioma:** O idioma oficial é o coreano. Embora o inglês seja falado em áreas turísticas, aprender algumas frases básicas em coreano pode enriquecer sua experiência.\n> *   **Visto:** A necessidade de visto para entrar na Coreia do Sul depende da sua nacionalidade. É recomendável verificar os requisitos de visto específicos para o seu país de origem no site da embaixada ou consulado da Coreia do Sul antes de viajar.\n> \n"
          },
          "metadata": {}
        },
        {
          "output_type": "stream",
          "name": "stdout",
          "text": [
            "--------------------------------------------------------------\n",
            "\n",
            "--- 📝 Resultado do Agente 4 (Revisor) ---\n",
            "\n"
          ]
        },
        {
          "output_type": "display_data",
          "data": {
            "text/plain": [
              "<IPython.core.display.Markdown object>"
            ],
            "text/markdown": "> ## Coreia do Sul: Guia Rápido para Viajantes\n> \n> **Moeda:** Won sul-coreano (KRW).\n> \n> **Melhor época:** Primavera (abril-maio) e outono (setembro-outubro) para clima agradável.\n> \n> **Idioma:** Coreano (inglês em áreas turísticas).\n> \n> **Visto:** Verifique a necessidade no site da embaixada/consulado coreano no seu país.\n> \n"
          },
          "metadata": {}
        },
        {
          "output_type": "stream",
          "name": "stdout",
          "text": [
            "--------------------------------------------------------------\n"
          ]
        }
      ]
    }
  ]
}