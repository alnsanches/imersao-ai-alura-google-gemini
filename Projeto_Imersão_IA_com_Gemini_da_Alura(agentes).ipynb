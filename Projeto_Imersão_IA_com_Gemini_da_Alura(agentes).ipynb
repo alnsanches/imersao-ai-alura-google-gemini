{
  "nbformat": 4,
  "nbformat_minor": 0,
  "metadata": {
    "colab": {
      "provenance": [],
      "include_colab_link": true
    },
    "kernelspec": {
      "name": "python3",
      "display_name": "Python 3"
    },
    "language_info": {
      "name": "python"
    }
  },
  "cells": [
    {
      "cell_type": "markdown",
      "metadata": {
        "id": "view-in-github",
        "colab_type": "text"
      },
      "source": [
        "<a href=\"https://colab.research.google.com/github/alnsanches/imersao-ai-alura-google-gemini/blob/main/Projeto_Imers%C3%A3o_IA_com_Gemini_da_Alura(agentes).ipynb\" target=\"_parent\"><img src=\"https://colab.research.google.com/assets/colab-badge.svg\" alt=\"Open In Colab\"/></a>"
      ]
    },
    {
      "cell_type": "code",
      "source": [
        "%pip -q install google-genai"
      ],
      "metadata": {
        "id": "UCCbECexLk_h"
      },
      "execution_count": null,
      "outputs": []
    },
    {
      "cell_type": "code",
      "source": [
        "# Configura a API Key do Google Gemini\n",
        "\n",
        "import os\n",
        "from google.colab import userdata\n",
        "\n",
        "os.environ[\"GOOGLE_API_KEY\"] = userdata.get('GOOGLE_API_KEY')"
      ],
      "metadata": {
        "id": "NfCqHo1tLk8P"
      },
      "execution_count": null,
      "outputs": []
    },
    {
      "cell_type": "code",
      "source": [
        "# Configura o cliente da SDK do Gemini\n",
        "\n",
        "from google import genai\n",
        "\n",
        "client = genai.Client()\n",
        "\n",
        "MODEL_ID = \"gemini-2.0-flash\""
      ],
      "metadata": {
        "id": "bV4w0H5TLk5g"
      },
      "execution_count": null,
      "outputs": []
    },
    {
      "cell_type": "code",
      "source": [
        "# Pergunta ao Gemini uma informação mais recente que seu conhecimento\n",
        "\n",
        "from IPython.display import HTML, Markdown\n",
        "\n",
        "# Perguntar pro modelo quando é a melhor época do ano para viajar para a Ásia ###############################################\n",
        "resposta = client.models.generate_content(\n",
        "    model=MODEL_ID,\n",
        "    contents='Quando a melhor época do ano para viajar para a Ásia?',\n",
        ")\n",
        "\n",
        "# Exibe a resposta na tela\n",
        "display(Markdown(f\"Resposta:\\n {resposta.text}\"))"
      ],
      "metadata": {
        "colab": {
          "base_uri": "https://localhost:8080/",
          "height": 692
        },
        "id": "Y9cBAz02xZt9",
        "outputId": "37ab042b-b8cc-4a11-8006-9bb0d25b8ff2",
        "collapsed": true
      },
      "execution_count": null,
      "outputs": [
        {
          "output_type": "display_data",
          "data": {
            "text/plain": [
              "<IPython.core.display.Markdown object>"
            ],
            "text/markdown": "Resposta:\n A \"melhor\" época do ano para viajar para a Ásia depende muito de:\n\n*   **Qual parte da Ásia você pretende visitar:** A Ásia é um continente enorme com climas muito diversos. O que é perfeito para o Sudeste Asiático pode ser péssimo para o Leste Asiático, por exemplo.\n*   **Quais atividades você pretende fazer:** Relaxar na praia, fazer trilhas nas montanhas, explorar cidades? Cada atividade tem condições climáticas ideais.\n*   **Seu orçamento:** A alta temporada significa preços mais altos de voos e acomodações. A baixa temporada pode ter clima menos favorável, mas preços mais acessíveis.\n*   **Sua tolerância ao calor, umidade e multidões:** Algumas pessoas lidam bem com o calor, outras não. A alta temporada geralmente significa mais turistas.\n\n**Para te dar uma ideia geral, aqui está um resumo por região:**\n\n**Sudeste Asiático (Tailândia, Vietnã, Camboja, Laos, Malásia, Indonésia, Filipinas):**\n\n*   **Melhor época:** Novembro a fevereiro (clima mais seco e ameno).\n*   **Época de monções (chuvas):** Maio a outubro (pode haver inundações em algumas áreas).\n*   **Dica:** Cada país tem suas próprias nuances climáticas. Pesquise o clima específico do seu destino.\n\n**Leste Asiático (China, Japão, Coreia do Sul):**\n\n*   **Primavera (março a maio) e Outono (setembro a novembro):** Clima agradável, flores de cerejeira na primavera, folhagens coloridas no outono.\n*   **Verão (junho a agosto):** Quente e úmido, especialmente na China e Coreia do Sul.\n*   **Inverno (dezembro a fevereiro):** Frio, especialmente no norte da China e na Coreia do Sul. Neve é comum em algumas áreas.\n\n**Sul da Ásia (Índia, Nepal, Butão, Sri Lanka, Maldivas):**\n\n*   **Índia:**\n    *   **Norte:** Outubro a março (clima seco e ameno).\n    *   **Sul:** Dezembro a março (clima mais seco).\n    *   **Monções:** Junho a setembro (chuvas fortes, especialmente na costa oeste).\n*   **Nepal:** Outubro a novembro (melhor época para trekking no Himalaia).\n*   **Maldivas:** Novembro a abril (estação seca).\n\n**Ásia Central (Cazaquistão, Uzbequistão, Quirguistão, Turcomenistão, Tajiquistão):**\n\n*   **Melhor época:** Abril a maio e setembro a outubro (clima ameno).\n*   **Verão (junho a agosto):** Quente e seco.\n*   **Inverno (novembro a março):** Frio e com neve em algumas áreas.\n\n**Recomendações:**\n\n*   **Pesquise o clima específico do seu destino:** Use sites como AccuWeather ou Climate-Data.org para obter informações detalhadas sobre as temperaturas médias, precipitação e umidade.\n*   **Considere festivais e eventos:** Muitas regiões da Ásia têm festivais incríveis que valem a pena planejar sua viagem em torno deles.\n*   **Seja flexível:** Esteja preparado para ajustar seus planos caso o clima não coopere.\n\nSe você puder me dizer para qual país ou região específica da Ásia você está planejando ir, posso te dar informações mais precisas!"
          },
          "metadata": {}
        }
      ]
    },
    {
      "cell_type": "code",
      "source": [
        "# Pergunta ao Gemini uma informação utilizando a busca do Google como contexto\n",
        "\n",
        "response = client.models.generate_content(\n",
        "    model=MODEL_ID,\n",
        "    contents='Qual a sua recomedação para eu fazer a minha viagem para a Ásia?',\n",
        "    config={\"tools\": [{\"google_search\": {}}]}\n",
        ")\n",
        "\n",
        "# Exibe a resposta na tela\n",
        "display(Markdown(f\"Resposta:\\n {response.text}\"))"
      ],
      "metadata": {
        "colab": {
          "base_uri": "https://localhost:8080/",
          "height": 900
        },
        "id": "lc2JPA92xbnp",
        "outputId": "a83233d6-0fe0-4467-8c2a-492830cd4f05",
        "collapsed": true
      },
      "execution_count": null,
      "outputs": [
        {
          "output_type": "display_data",
          "data": {
            "text/plain": [
              "<IPython.core.display.Markdown object>"
            ],
            "text/markdown": "Resposta:\n Para fazer uma recomendação para a sua viagem para a Ásia, preciso de mais informações sobre o que você procura! Aqui estão algumas perguntas para me ajudar a entender suas preferências:\n\n*   **Qual é o seu orçamento?** (Econômico, médio, luxuoso?)\n*   **Quanto tempo você tem para a viagem?** (Uma semana, um mês, mais?)\n*   **Quais são seus interesses?** (História, cultura, natureza, aventura, comida, vida noturna, compras?)\n*   **Que tipo de experiência você está buscando?** (Relaxante, agitada, autêntica, turística?)\n*   **Você prefere visitar um país só ou explorar vários?**\n*   **Você tem alguma restrição de saúde ou mobilidade?**\n*   **Você já viajou para a Ásia antes? Se sim, para onde?**\n*   **Quando você pretende viajar?** (A época do ano pode influenciar muito a sua experiência, dependendo do clima e dos festivais.)\n\nEnquanto isso, posso dar algumas sugestões gerais:\n\n*   **Para cultura e história:**\n    *   **Japão:** Templos, santuários, jardins, cidades vibrantes como Tóquio e Kyoto.\n    *   **China:** A Grande Muralha, a Cidade Proibida, os Guerreiros de Terracota, paisagens deslumbrantes.\n    *   **Índia:** Taj Mahal, templos antigos, cidades vibrantes como Delhi e Mumbai.\n    *   **Coreia do Sul:** Palácios, vilas tradicionais, a vibrante Seul.\n*   **Para natureza e aventura:**\n    *   **Tailândia:** Praias paradisíacas, selvas exuberantes, templos budistas.\n    *   **Vietnã:** Paisagens deslumbrantes, como a Baía de Ha Long, cidades históricas, comida deliciosa.\n    *   **Indonésia:** Praias vulcânicas, florestas tropicais, a cultura única de Bali.\n    *   **Nepal:** Trekking no Himalaia, paisagens montanhosas incríveis.\n*   **Para uma mistura de tudo:**\n    *   **Malásia:** Uma mistura de culturas, culinária diversificada, cidades modernas e praias paradisíacas.\n    *   **Singapura:** Uma cidade-estado moderna e vibrante, com uma culinária incrível e atrações para todos os gostos.\n\nPara te dar uma recomendação mais personalizada, preciso de mais detalhes sobre o que você procura em sua viagem.\n\nCom base nas informações mais recentes, aqui estão alguns dos melhores destinos na Ásia para 2025:\n\n*   **Udaipur, Índia:** Conhecida como a \"cidade dos lagos\", Udaipur oferece paisagens deslumbrantes, palácios históricos e uma rica cultura. É um destino perfeito para quem busca uma experiência autêntica e romântica na Índia.\n*   **Kyoto, Japão:** A antiga capital do Japão, Kyoto, é famosa por seus templos, santuários, jardins e atmosfera tradicional. É um destino imperdível para quem deseja conhecer a cultura japonesa em profundidade.\n*   **Hoi An, Vietnã:** Esta cidade histórica encanta com suas ruas iluminadas por lanternas, arquitetura charmosa e culinária deliciosa. É um destino ideal para quem busca uma experiência cultural autêntica e relaxante no Vietnã.\n*   **Chiang Mai, Tailândia:** Localizada no norte da Tailândia, Chiang Mai oferece uma combinação de natureza exuberante, templos antigos e festivais vibrantes. É um destino perfeito para quem busca aventura, cultura e relaxamento na Tailândia.\n*   **Bangkok, Tailândia:** A capital da Tailândia é uma cidade vibrante e cosmopolita, com templos deslumbrantes, mercados animados, vida noturna agitada e uma culinária incrível. É um destino imperdível para quem busca uma experiência urbana emocionante na Ásia.\n\nPara mais inspiração, aqui estão alguns outros destinos asiáticos populares:\n\n*   **Tóquio, Japão:** Uma metrópole moderna e vibrante, com atrações para todos os gostos, desde templos antigos a museus de arte contemporânea.\n*   **Bali, Indonésia:** Uma ilha paradisíaca com praias vulcânicas, florestas tropicais e uma cultura única.\n*   **Pequim, China:** A capital da China é uma cidade histórica com muitos pontos turísticos famosos, como a Cidade Proibida e a Grande Muralha da China.\n\nA melhor época para viajar para a Ásia depende do destino específico e do clima que você prefere. No entanto, em geral, a estação seca (de novembro a abril) é considerada a melhor época para visitar muitos países do Sudeste Asiático, como Tailândia, Laos, Camboja e Vietnã. A primavera (de março a maio) também é uma boa época para visitar alguns países da Ásia, como o Japão e a Coreia do Sul, quando as temperaturas são amenas e as cerejeiras estão em flor.\n\nÉ importante lembrar que a Ásia é um continente vasto e diversificado, com uma grande variedade de culturas, paisagens e climas. Portanto, é importante fazer uma pesquisa detalhada e planejar sua viagem com antecedência para garantir que você tenha uma experiência inesquecível.\n"
          },
          "metadata": {}
        }
      ]
    },
    {
      "cell_type": "code",
      "source": [
        "from IPython.display import HTML, display\n",
        "\n",
        "def exibir_informacoes_grounding(response):\n",
        "    try:\n",
        "        candidate = response.candidates[0]\n",
        "        metadata = candidate.grounding_metadata\n",
        "\n",
        "        # Busca realizada\n",
        "        busca = metadata.web_search_queries or \"Nenhuma busca realizada\"\n",
        "        print(f\"🔍 Busca realizada: {busca}\")\n",
        "\n",
        "        # Páginas utilizadas\n",
        "        grounding_chunks = metadata.grounding_chunks\n",
        "        if grounding_chunks:\n",
        "            paginas = ', '.join([site.web.title for site in grounding_chunks])\n",
        "        else:\n",
        "            paginas = \"Nenhuma página utilizada\"\n",
        "        print(f\"🌐 Páginas utilizadas na resposta: {paginas}\\n\")\n",
        "\n",
        "        # Conteúdo HTML, se houver\n",
        "        if metadata.search_entry_point:\n",
        "            display(HTML(metadata.search_entry_point.rendered_content))\n",
        "        else:\n",
        "            print(\"❌ Nenhum conteúdo HTML disponível para exibição.\")\n",
        "\n",
        "    except Exception as e:\n",
        "        print(f\"⚠️ Erro ao exibir informações: {e}\")\n"
      ],
      "metadata": {
        "id": "6Cg0KNJGMgC5"
      },
      "execution_count": null,
      "outputs": []
    },
    {
      "cell_type": "code",
      "source": [
        "# Instalar Framework de agentes do Google ################################################\n",
        "!pip install -q google-adk"
      ],
      "metadata": {
        "colab": {
          "base_uri": "https://localhost:8080/"
        },
        "id": "a1eRPalxEnj7",
        "outputId": "f98d8427-dd4d-436d-a294-d6571ec517e5",
        "collapsed": true
      },
      "execution_count": null,
      "outputs": [
        {
          "output_type": "stream",
          "name": "stdout",
          "text": [
            "\u001b[?25l   \u001b[90m━━━━━━━━━━━━━━━━━━━━━━━━━━━━━━━━━━━━━━━━\u001b[0m \u001b[32m0.0/1.2 MB\u001b[0m \u001b[31m?\u001b[0m eta \u001b[36m-:--:--\u001b[0m\r\u001b[2K   \u001b[91m━━━━━━━━━━━━━━━━━━━━━━\u001b[0m\u001b[90m╺\u001b[0m\u001b[90m━━━━━━━━━━━━━━━━━\u001b[0m \u001b[32m0.7/1.2 MB\u001b[0m \u001b[31m19.8 MB/s\u001b[0m eta \u001b[36m0:00:01\u001b[0m\r\u001b[2K   \u001b[90m━━━━━━━━━━━━━━━━━━━━━━━━━━━━━━━━━━━━━━━━\u001b[0m \u001b[32m1.2/1.2 MB\u001b[0m \u001b[31m17.6 MB/s\u001b[0m eta \u001b[36m0:00:00\u001b[0m\n",
            "\u001b[?25h\u001b[?25l   \u001b[90m━━━━━━━━━━━━━━━━━━━━━━━━━━━━━━━━━━━━━━━━\u001b[0m \u001b[32m0.0/232.1 kB\u001b[0m \u001b[31m?\u001b[0m eta \u001b[36m-:--:--\u001b[0m\r\u001b[2K   \u001b[90m━━━━━━━━━━━━━━━━━━━━━━━━━━━━━━━━━━━━━━━━\u001b[0m \u001b[32m232.1/232.1 kB\u001b[0m \u001b[31m13.3 MB/s\u001b[0m eta \u001b[36m0:00:00\u001b[0m\n",
            "\u001b[?25h\u001b[?25l   \u001b[90m━━━━━━━━━━━━━━━━━━━━━━━━━━━━━━━━━━━━━━━━\u001b[0m \u001b[32m0.0/95.2 kB\u001b[0m \u001b[31m?\u001b[0m eta \u001b[36m-:--:--\u001b[0m\r\u001b[2K   \u001b[90m━━━━━━━━━━━━━━━━━━━━━━━━━━━━━━━━━━━━━━━━\u001b[0m \u001b[32m95.2/95.2 kB\u001b[0m \u001b[31m5.8 MB/s\u001b[0m eta \u001b[36m0:00:00\u001b[0m\n",
            "\u001b[?25h\u001b[?25l   \u001b[90m━━━━━━━━━━━━━━━━━━━━━━━━━━━━━━━━━━━━━━━━\u001b[0m \u001b[32m0.0/217.1 kB\u001b[0m \u001b[31m?\u001b[0m eta \u001b[36m-:--:--\u001b[0m\r\u001b[2K   \u001b[90m━━━━━━━━━━━━━━━━━━━━━━━━━━━━━━━━━━━━━━━━\u001b[0m \u001b[32m217.1/217.1 kB\u001b[0m \u001b[31m13.1 MB/s\u001b[0m eta \u001b[36m0:00:00\u001b[0m\n",
            "\u001b[?25h\u001b[?25l   \u001b[90m━━━━━━━━━━━━━━━━━━━━━━━━━━━━━━━━━━━━━━━━\u001b[0m \u001b[32m0.0/334.1 kB\u001b[0m \u001b[31m?\u001b[0m eta \u001b[36m-:--:--\u001b[0m\r\u001b[2K   \u001b[90m━━━━━━━━━━━━━━━━━━━━━━━━━━━━━━━━━━━━━━━━\u001b[0m \u001b[32m334.1/334.1 kB\u001b[0m \u001b[31m20.3 MB/s\u001b[0m eta \u001b[36m0:00:00\u001b[0m\n",
            "\u001b[2K   \u001b[90m━━━━━━━━━━━━━━━━━━━━━━━━━━━━━━━━━━━━━━━━\u001b[0m \u001b[32m125.1/125.1 kB\u001b[0m \u001b[31m7.6 MB/s\u001b[0m eta \u001b[36m0:00:00\u001b[0m\n",
            "\u001b[2K   \u001b[90m━━━━━━━━━━━━━━━━━━━━━━━━━━━━━━━━━━━━━━━━\u001b[0m \u001b[32m65.8/65.8 kB\u001b[0m \u001b[31m3.5 MB/s\u001b[0m eta \u001b[36m0:00:00\u001b[0m\n",
            "\u001b[2K   \u001b[90m━━━━━━━━━━━━━━━━━━━━━━━━━━━━━━━━━━━━━━━━\u001b[0m \u001b[32m119.0/119.0 kB\u001b[0m \u001b[31m8.0 MB/s\u001b[0m eta \u001b[36m0:00:00\u001b[0m\n",
            "\u001b[2K   \u001b[90m━━━━━━━━━━━━━━━━━━━━━━━━━━━━━━━━━━━━━━━━\u001b[0m \u001b[32m194.9/194.9 kB\u001b[0m \u001b[31m12.1 MB/s\u001b[0m eta \u001b[36m0:00:00\u001b[0m\n",
            "\u001b[2K   \u001b[90m━━━━━━━━━━━━━━━━━━━━━━━━━━━━━━━━━━━━━━━━\u001b[0m \u001b[32m62.5/62.5 kB\u001b[0m \u001b[31m3.7 MB/s\u001b[0m eta \u001b[36m0:00:00\u001b[0m\n",
            "\u001b[2K   \u001b[90m━━━━━━━━━━━━━━━━━━━━━━━━━━━━━━━━━━━━━━━━\u001b[0m \u001b[32m103.3/103.3 kB\u001b[0m \u001b[31m5.7 MB/s\u001b[0m eta \u001b[36m0:00:00\u001b[0m\n",
            "\u001b[2K   \u001b[90m━━━━━━━━━━━━━━━━━━━━━━━━━━━━━━━━━━━━━━━━\u001b[0m \u001b[32m44.4/44.4 kB\u001b[0m \u001b[31m2.7 MB/s\u001b[0m eta \u001b[36m0:00:00\u001b[0m\n",
            "\u001b[2K   \u001b[90m━━━━━━━━━━━━━━━━━━━━━━━━━━━━━━━━━━━━━━━━\u001b[0m \u001b[32m72.0/72.0 kB\u001b[0m \u001b[31m4.7 MB/s\u001b[0m eta \u001b[36m0:00:00\u001b[0m\n",
            "\u001b[?25h"
          ]
        }
      ]
    },
    {
      "cell_type": "code",
      "execution_count": null,
      "metadata": {
        "id": "aePV2bdfDeoW"
      },
      "outputs": [],
      "source": [
        "from google.adk.agents import Agent\n",
        "from google.adk.runners import Runner\n",
        "from google.adk.sessions import InMemorySessionService\n",
        "from google.adk.tools import google_search\n",
        "from google.genai import types  # Para criar conteúdos (Content e Part)\n",
        "from datetime import date\n",
        "import textwrap # Para formatar melhor a saída de texto\n",
        "from IPython.display import display, Markdown # Para exibir texto formatado no Colab\n",
        "import requests # Para fazer requisições HTTP\n",
        "import warnings\n",
        "\n",
        "warnings.filterwarnings(\"ignore\")"
      ]
    },
    {
      "cell_type": "code",
      "source": [
        "# Função auxiliar que envia uma mensagem para um agente via Runner e retorna a resposta final\n",
        "def call_agent(agent: Agent, message_text: str) -> str:\n",
        "    # Cria um serviço de sessão em memória\n",
        "    session_service = InMemorySessionService()\n",
        "    # Cria uma nova sessão (você pode personalizar os IDs conforme necessário)\n",
        "    session = session_service.create_session(app_name=agent.name, user_id=\"user1\", session_id=\"session1\")\n",
        "    # Cria um Runner para o agente\n",
        "    runner = Runner(agent=agent, app_name=agent.name, session_service=session_service)\n",
        "    # Cria o conteúdo da mensagem de entrada\n",
        "    content = types.Content(role=\"user\", parts=[types.Part(text=message_text)])\n",
        "\n",
        "    final_response = \"\"\n",
        "    # Itera assincronamente pelos eventos retornados durante a execução do agente\n",
        "    for event in runner.run(user_id=\"user1\", session_id=\"session1\", new_message=content):\n",
        "        if event.is_final_response():\n",
        "          for part in event.content.parts:\n",
        "            if part.text is not None:\n",
        "              final_response += part.text\n",
        "              final_response += \"\\n\"\n",
        "    return final_response"
      ],
      "metadata": {
        "id": "_xP4lWhsS5ko"
      },
      "execution_count": null,
      "outputs": []
    },
    {
      "cell_type": "code",
      "source": [
        "# Função auxiliar para exibir texto formatado em Markdown no Colab\n",
        "def to_markdown(text):\n",
        "  text = text.replace('•', '  *')\n",
        "  return Markdown(textwrap.indent(text, '> ', predicate=lambda _: True))"
      ],
      "metadata": {
        "id": "8dosiodaxfFR"
      },
      "execution_count": null,
      "outputs": []
    },
    {
      "cell_type": "code",
      "source": [
        "##########################################\n",
        "# --- Agente 1: Buscador de Notícias --- #\n",
        "##########################################\n",
        "def agente_buscador(topico, data_de_hoje):\n",
        "\n",
        "    buscador = Agent(\n",
        "        name=\"agente_buscador\",\n",
        "        model=\"gemini-2.0-flash\",\n",
        "        instruction=f\"\"\"\n",
        "        Você é um assistente de pesquisa especializado em viagens para {topico}.\n",
        "        Sua tarefa é usar a ferramenta `google_search` para encontrar as 5 notícias ou lançamentos mais recentes e relevantes sobre viagens para {topico}, com foco em informações publicadas no máximo um mês antes de {data_de_hoje}.\n",
        "\n",
        "        Realize uma busca detalhada no Google com termos relevantes como \"novidades turismo {topico}\", \"eventos {topico} {data_de_hoje}\", \"lançamentos atrações {topico}\", \"regras entrada {topico}\", \"transporte {topico} atualizações\".\n",
        "\n",
        "        Liste os resultados encontrados de forma concisa, destacando os pontos mais importantes para um viajante.\n",
        "        \"\"\",\n",
        "        description=\"Agente que busca informações no Google sobre viagens\",\n",
        "        tools=[google_search]\n",
        "    )\n",
        "\n",
        "    entrada_do_agente_buscador = f\"Buscar novidades sobre viagens para {topico} até {data_de_hoje}.\"\n",
        "\n",
        "    lancamentos = call_agent(buscador, entrada_do_agente_buscador)\n",
        "    return lancamentos"
      ],
      "metadata": {
        "id": "o8bqIfi_DyH8"
      },
      "execution_count": 55,
      "outputs": []
    },
    {
      "cell_type": "code",
      "source": [
        "################################################\n",
        "# --- Agente 2: Planejador de Viagem --- #\n",
        "################################################\n",
        "def agente_planejador(topico, lancamentos_buscados):\n",
        "    planejador = Agent(\n",
        "        name=\"agente_planejador\",\n",
        "        model=\"gemini-2.0-flash\",\n",
        "        instruction=f\"\"\"\n",
        "        Você é um planejador de conteúdo para redes sociais especializado em viagens para {topico}.\n",
        "        Com base nos seguintes tópicos e informações recentes encontrados pelo Agente Buscador:\n",
        "        {lancamentos_buscados}\n",
        "\n",
        "        Sua tarefa é analisar cada tópico e:\n",
        "        1. Usar a ferramenta `google_search` para obter mais detalhes práticos e inspiradores sobre cada ponto (dicas de locais, horários, custos, links úteis, etc.).\n",
        "        2. Para cada tópico, gerar um ponto-chave conciso para um post de rede social, incluindo:\n",
        "           - Um gancho atraente.\n",
        "           - As principais atrações/experiências.\n",
        "           - Uma dica prática relevante.\n",
        "           - Uma sugestão visual (foto/vídeo).\n",
        "\n",
        "        Ao final, selecione o tema mais relevante e promissor para um post sobre viagens para {topico}, justificando sua escolha e apresentando um breve plano de post (título, seções, call-to-action).\n",
        "        \"\"\",\n",
        "        description=\"Agente que planeja posts de viagem para redes sociais\",\n",
        "        tools=[google_search]\n",
        "    )\n",
        "\n",
        "    entrada_do_agente_planejador = f\"Planejar posts para os seguintes tópicos sobre {topico}:\\n{lancamentos_buscados}\"\n",
        "    plano_do_post = call_agent(planejador, entrada_do_agente_planejador)\n",
        "    return plano_do_post\n"
      ],
      "metadata": {
        "id": "y3VO1uo5_ghO"
      },
      "execution_count": 56,
      "outputs": []
    },
    {
      "cell_type": "code",
      "source": [
        "#########################################\n",
        "# --- Agente 3: Informativo Viagem --- #\n",
        "#########################################\n",
        "def agente_redator(topico, plano_de_post, destino):\n",
        "    redator = Agent(\n",
        "        name=\"agente_redator\",\n",
        "        model=\"gemini-2.0-flash\",\n",
        "        instruction=f\"\"\"\n",
        "            Você é um assistente de viagem especializado em fornecer resumos informativos e práticos sobre destinos turísticos.\n",
        "\n",
        "            Sua missão é criar um resumo conciso e útil para viajantes interessados em {destino}.\n",
        "\n",
        "            Com base nas informações básicas fornecidas sobre {destino} (moeda, clima, idioma, necessidade de visto) e no plano de detalhes da viagem:\n",
        "            {plano_de_post}\n",
        "\n",
        "            Redija um texto que inclua:\n",
        "            - A moeda local utilizada em {destino}.\n",
        "            - Uma descrição breve do clima típico ou da melhor época para visitar {destino}.\n",
        "            - O idioma oficial ou os idiomas mais falados em {destino}.\n",
        "            - Uma indicação clara sobre a necessidade de visto para entrada em {destino} (assumindo que o país de origem do viajante é desconhecido, então forneça uma orientação geral ou a necessidade de verificar).\n",
        "\n",
        "            O texto deve ser informativo, direto e fácil de entender para alguém planejando uma viagem.\n",
        "            \"\"\",\n",
        "        description=\"Agente redator de resumos informativos para planejamento de viagem\"\n",
        "    )\n",
        "    entrada_do_agente_redator = f\"Resumir informações básicas sobre {destino} com base no seguinte plano:\\n{plano_de_post}\"\n",
        "    rascunho = call_agent(redator, entrada_do_agente_redator)\n",
        "    return rascunho"
      ],
      "metadata": {
        "id": "uOqlg2TRLVh1"
      },
      "execution_count": 57,
      "outputs": []
    },
    {
      "cell_type": "code",
      "source": [
        "##########################################\n",
        "# --- Agente 4: Resumo da Viagem --- #\n",
        "##########################################\n",
        "def agente_revisor(topico, rascunho_gerado):\n",
        "    revisor = Agent(\n",
        "        name=\"agente_revisor\",\n",
        "        model=\"gemini-2.0-flash\",\n",
        "        instruction=f\"\"\"\n",
        "            Você é um agente de viagens e quero que me informe tudo de forma suscinta para quem deseja viajar para {topico}, incluindo todas as informações importantes para o usuário não ficar perdido.\n",
        "            \"\"\",\n",
        "        description=\"Agente do resumo da viagem\"\n",
        "    )\n",
        "    entrada_do_agente_revisor = f\"Revisar o seguinte rascunho sobre viagem para {topico}:\\n{rascunho_gerado}\"\n",
        "    texto_revisado = call_agent(revisor, entrada_do_agente_revisor)\n",
        "    return texto_revisado"
      ],
      "metadata": {
        "id": "_aTb1SdkLeT6"
      },
      "execution_count": 58,
      "outputs": []
    },
    {
      "cell_type": "code",
      "source": [
        "data_de_hoje = date.today().strftime(\"%d/%m/%Y\")\n",
        "\n",
        "print(\"✈️ Iniciando o Sistema de Informações para sua Viagem 🌍\")\n",
        "\n",
        "topico = input(\"❓ Para qual DESTINO você gostaria de obter informações de viagem? \")\n",
        "\n",
        "if not topico:\n",
        "    print(\"Você esqueceu de digitar o tópico!\")\n",
        "else:\n",
        "    print(f\"Maravilha! Vamos buscar informações relevantes para o país escolhido: {topico}\")\n",
        "\n",
        "    lancamentos_buscados = agente_buscador(topico, data_de_hoje)\n",
        "    print(\"\\n--- 📝 Resultado do Agente 1 (Buscador) ---\\n\")\n",
        "    display(to_markdown(lancamentos_buscados))\n",
        "    print(\"--------------------------------------------------------------\")\n",
        "\n",
        "    plano_de_post = agente_planejador(topico, lancamentos_buscados)\n",
        "    print(\"\\n--- 📝 Resultado do Agente 2 (Planejador) ---\\n\")\n",
        "    display(to_markdown(plano_de_post))\n",
        "    print(\"--------------------------------------------------------------\")\n",
        "\n",
        "    rascunho_de_post = agente_redator(topico, plano_de_post, topico)\n",
        "    print(\"\\n--- 📝 Resultado do Agente 3 (Redator) ---\\n\")\n",
        "    display(to_markdown(rascunho_de_post))\n",
        "    print(\"--------------------------------------------------------------\")\n",
        "\n",
        "    post_final = agente_revisor(topico, rascunho_de_post)\n",
        "    print(\"\\n--- 📝 Resultado do Agente 4 (Revisor) ---\\n\")\n",
        "    display(to_markdown(post_final))\n",
        "    print(\"--------------------------------------------------------------\")"
      ],
      "metadata": {
        "id": "6xzI6LKzxxnN",
        "colab": {
          "base_uri": "https://localhost:8080/",
          "height": 1000
        },
        "outputId": "02c96ff9-bdd1-492d-fdf0-6d17a1df2564"
      },
      "execution_count": 61,
      "outputs": [
        {
          "output_type": "stream",
          "name": "stdout",
          "text": [
            "✈️ Iniciando o Sistema de Informações para sua Viagem 🌍\n",
            "❓ Para qual DESTINO você gostaria de obter informações de viagem? Tailândia\n",
            "Maravilha! Vamos buscar informações relevantes para o país escolhido: Tailândia\n",
            "\n",
            "--- 📝 Resultado do Agente 1 (Buscador) ---\n",
            "\n"
          ]
        },
        {
          "output_type": "display_data",
          "data": {
            "text/plain": [
              "<IPython.core.display.Markdown object>"
            ],
            "text/markdown": "> Claro, aqui estão as 5 principais notícias e lançamentos relevantes sobre viagens à Tailândia, com foco em informações publicadas no máximo um mês antes de 17/05/2025:\n> \n> 1.  **Novo Cartão de Chegada Digital da Tailândia (TDAC):** A partir de 1º de maio de 2025, todos os viajantes estrangeiros que entrarem na Tailândia por via aérea, terrestre ou marítima deverão preencher o Cartão de Chegada Digital da Tailândia (TDAC) online até 72 horas antes da chegada. Este formulário digital substituirá o formulário em papel TM6, visando agilizar a imigração. O formulário está disponível no site oficial: [https://tdac.immigration.go.th](https://tdac.immigration.go.th/), e o preenchimento é gratuito.\n> 2.  **Feriados e eventos em maio de 2025:** A Tailândia celebrará o Visakha Bucha em maio, um importante feriado budista que comemora o nascimento, a iluminação e a morte de Buda. Os templos estarão cheios de cerimônias especiais. Além disso, há diversos festivais e eventos ao longo do mês, incluindo o Amazean Jungle Thailand by UTMB 2025, o Hua Hin International Jazz Festival e o Pattaya Lighting 2025.\n> 3.  **Regras para líquidos na bagagem de mão:** A Tailândia atualizou as regras para o transporte de líquidos na bagagem de mão, alinhando-as com as normas internacionais de segurança da aviação. Cada líquido deve estar em um recipiente com capacidade máxima de 100 ml, e todos os recipientes devem ser colocados em um saco de plástico transparente com fecho de correr, com volume total não superior a 1 litro.\n> 4.  **Isenção de visto:** A Tailândia concede isenção de visto para 93 países e territórios, permitindo uma estadia de 60 dias para turismo ou negócios de curto prazo, prorrogável por 30 dias. Os passaportes devem ter validade de pelo menos seis meses na entrada.\n> 5.  **Festival \"Tout à fait Thaï\" em Paris:** Para quem não pode ir à Tailândia, o festival \"Tout à fait Thaï\" acontecerá em Paris, no Parc de Bagatelle, nos dias 24 e 25 de maio de 2025, celebrando o 340º aniversário do primeiro contato entre o Reino do Sião e a França, bem como 170 anos de relações diplomáticas entre a Tailândia e a França. O evento incluirá especialidades tailandesas, espetáculos tradicionais, Muay Thai e workshops de bem-estar.\n> \n"
          },
          "metadata": {}
        },
        {
          "output_type": "stream",
          "name": "stdout",
          "text": [
            "--------------------------------------------------------------\n",
            "\n",
            "--- 📝 Resultado do Agente 2 (Planejador) ---\n",
            "\n"
          ]
        },
        {
          "output_type": "display_data",
          "data": {
            "text/plain": [
              "<IPython.core.display.Markdown object>"
            ],
            "text/markdown": "> Ok, vamos planejar posts de redes sociais sobre esses tópicos da Tailândia. Primeiro, vou pesquisar mais detalhes sobre cada um para gerar conteúdo mais prático e inspirador.\n> \n> \n> Ótimo! Com base nas informações coletadas, aqui estão os pontos-chave para cada tópico, prontos para serem transformados em posts de redes sociais:\n> \n> **1. Novo Cartão de Chegada Digital da Tailândia (TDAC):**\n> \n> *   **Gancho:** Vai para a Tailândia? 🛂 A partir de 1º de maio de 2025, tem novidade na imigração!\n> *   **Atrações/Experiências:** O Cartão de Chegada Digital da Tailândia (TDAC) é obrigatório para todos os viajantes (aéreo, terrestre, marítimo). Preencha online até 72 horas antes da chegada.\n> *   **Dica Prática:** Acesse o site oficial ([https://tdac.immigration.go.th](https://tdac.immigration.go.th/)), é gratuito! Tenha em mãos dados do passaporte, voo e primeira hospedagem.\n> *   **Sugestão Visual:** Um vídeo curto mostrando o passo a passo de como preencher o TDAC no site oficial.\n> \n> **2. Feriados e eventos em maio de 2025:**\n> \n> *   **Gancho:** Maio na Tailândia: cultura, jazz e luzes! ✨\n> *   **Atrações/Experiências:** Celebre o Visakha Bucha (feriado budista), curta o Amazean Jungle Thailand by UTMB, o Hua Hin International Jazz Festival e o Pattaya Lighting 2025.\n> *   **Dica Prática:** Verifique os horários das cerimônias do Visakha Bucha nos templos locais e planeje-se para os festivais (datas, ingressos, localização). Muitos templos estarão abertos até mais tarde para as celebrações do Visakha Bucha.\n> *   **Sugestão Visual:** Um carrossel de fotos/vídeos dos templos iluminados durante o Visakha Bucha, um clipe do festival de jazz e outro do Pattaya Lighting.\n> \n> **3. Regras para líquidos na bagagem de mão:**\n> \n> *   **Gancho:** Atenção, viajante! 🧳 Novas regras para líquidos na bagagem de mão na Tailândia.\n> *   **Atrações/Experiências:** Para voos partindo de aeroportos tailandeses, cada líquido deve estar em recipiente de até 100ml, dentro de um saco plástico transparente de 1 litro.\n> *   **Dica Prática:** Use saquinhos reutilizáveis com fecho zip para facilitar a inspeção e evite surpresas na hora do embarque.\n> *   **Sugestão Visual:** Uma foto mostrando um saquinho transparente com miniaturas de produtos de higiene pessoal, dentro das especificações.\n> \n> **4. Isenção de visto:**\n> \n> *   **Gancho:** ✈️ 60 dias na Tailândia sem visto? Sim, é possível!\n> *   **Atrações/Experiências:** A Tailândia oferece isenção de visto para 93 países/territórios, permitindo estadias de até 60 dias (turismo/negócios).\n> *   **Dica Prática:** Seu passaporte deve ter validade mínima de 6 meses na entrada. Consulte a lista completa de países elegíveis no site do Ministério das Relações Exteriores da Tailândia.\n> *   **Sugestão Visual:** Um mapa-múndi destacando os países com isenção de visto para a Tailândia.\n> \n> **5. Festival \"Tout à fait Thaï\" em Paris:**\n> \n> *   **Gancho:** Impossível ir à Tailândia agora? 😢 A Tailândia vem até você em Paris!\n> *   **Atrações/Experiências:** Festival \"Tout à fait Thaï\" no Parc de Bagatelle (24 e 25 de maio de 2025): culinária tailandesa, shows, Muay Thai, workshops e mais!\n> *   **Dica Prática:** A entrada no festival é gratuita, mas o acesso ao parque custa 2,70€. Consulte a programação completa em [www.tourismethai.fr](http://www.tourismethai.fr).\n> *   **Sugestão Visual:** Um vídeo curto com os melhores momentos da edição anterior do festival, mostrando a diversidade cultural e gastronômica.\n> \n> **Tema mais relevante e promissor:**\n> \n> O tema do **Novo Cartão de Chegada Digital da Tailândia (TDAC)** é o mais relevante e promissor para um post de viagem. É uma informação recente e essencial para todos os viajantes que planejam visitar a Tailândia, impactando diretamente a experiência de entrada no país.\n> \n> **Plano de post:**\n> \n> *   **Título:** \"Alerta Viajante: Novo Cartão de Chegada Digital da Tailândia (TDAC) – Tudo o que você precisa saber!\"\n> *   **Seções:**\n>     *   **Introdução:** Destaque a obrigatoriedade do TDAC a partir de 1º de maio de 2025.\n>     *   **O que é o TDAC?** Explique que é um formulário digital que substitui o antigo TM6 em papel.\n>     *   **Como preencher?** Guia passo a passo com print screens do site oficial ([https://tdac.immigration.go.th](https://tdac.immigration.go.th/)).\n>     *   **Dicas importantes:** Prazo para preencher (72 horas antes), documentos necessários, informações sobre isenção de visto (link para o site oficial).\n>     *   **Onde encontrar mais informações?** Links úteis para o site da imigração tailandesa e outros recursos.\n> *   **Call-to-action:** \"Vai para a Tailândia? Marque seus amigos que precisam saber dessa novidade! 😉🇹🇭 #Tailândia #TDAC #DicasDeViagem #Imigração\"\n> \n"
          },
          "metadata": {}
        },
        {
          "output_type": "stream",
          "name": "stdout",
          "text": [
            "--------------------------------------------------------------\n",
            "\n",
            "--- 📝 Resultado do Agente 3 (Redator) ---\n",
            "\n"
          ]
        },
        {
          "output_type": "display_data",
          "data": {
            "text/plain": [
              "<IPython.core.display.Markdown object>"
            ],
            "text/markdown": "> ## Planejando sua Viagem para a Tailândia: Informações Essenciais\n> \n> Se você está sonhando com templos dourados e praias paradisíacas, aqui estão algumas dicas cruciais para planejar sua viagem à Tailândia:\n> \n> *   **Moeda:** A moeda local é o Baht tailandês (THB). É sempre bom verificar a taxa de câmbio antes de viajar para planejar seu orçamento.\n> *   **Clima:** A melhor época para visitar a Tailândia é durante a estação seca e fresca, de novembro a março. As temperaturas são mais amenas e há menos umidade.\n> *   **Idioma:** O idioma oficial é o tailandês. Embora o inglês seja falado em áreas turísticas, aprender algumas frases básicas em tailandês pode enriquecer sua experiência e facilitar a comunicação.\n> *   **Visto:** A Tailândia oferece isenção de visto para muitos países, permitindo estadias de até 60 dias para turismo ou negócios. Para confirmar se o seu país está na lista de isenção de visto e por quanto tempo você pode permanecer, consulte o site do Ministério das Relações Exteriores da Tailândia. Além disso, a partir de 1º de maio de 2025, será obrigatório o preenchimento do Cartão de Chegada Digital da Tailândia (TDAC) para todos os viajantes.\n"
          },
          "metadata": {}
        },
        {
          "output_type": "stream",
          "name": "stdout",
          "text": [
            "--------------------------------------------------------------\n",
            "\n",
            "--- 📝 Resultado do Agente 4 (Revisor) ---\n",
            "\n"
          ]
        },
        {
          "output_type": "display_data",
          "data": {
            "text/plain": [
              "<IPython.core.display.Markdown object>"
            ],
            "text/markdown": "> ## Tailândia: Planeje sua Viagem!\n> \n> **Moeda:** Baht tailandês (THB). Consulte a taxa de câmbio antes de viajar.\n> \n> **Clima:** Melhor época: novembro a março (estação seca e fresca).\n> \n> **Idioma:** Tailandês. Inglês é falado em áreas turísticas.\n> \n> **Visto:** Isenção de visto para muitos países (estadias de até 60 dias). Consulte o site do Ministério das Relações Exteriores da Tailândia para confirmar a sua situação. Cartão de Chegada Digital da Tailândia (TDAC) obrigatório a partir de 1º de maio de 2025.\n> \n"
          },
          "metadata": {}
        },
        {
          "output_type": "stream",
          "name": "stdout",
          "text": [
            "--------------------------------------------------------------\n"
          ]
        }
      ]
    }
  ]
}