{
  "nbformat": 4,
  "nbformat_minor": 0,
  "metadata": {
    "colab": {
      "provenance": [],
      "include_colab_link": true
    },
    "kernelspec": {
      "name": "python3",
      "display_name": "Python 3"
    },
    "language_info": {
      "name": "python"
    }
  },
  "cells": [
    {
      "cell_type": "markdown",
      "metadata": {
        "id": "view-in-github",
        "colab_type": "text"
      },
      "source": [
        "<a href=\"https://colab.research.google.com/github/alnsanches/imersao-ai-alura-google-gemini/blob/main/Projeto_Imers%C3%A3o_IA_com_Gemini_da_Alura(agentes).ipynb\" target=\"_parent\"><img src=\"https://colab.research.google.com/assets/colab-badge.svg\" alt=\"Open In Colab\"/></a>"
      ]
    },
    {
      "cell_type": "code",
      "source": [
        "%pip -q install google-genai"
      ],
      "metadata": {
        "id": "UCCbECexLk_h"
      },
      "execution_count": null,
      "outputs": []
    },
    {
      "cell_type": "code",
      "source": [
        "# Configura a API Key do Google Gemini\n",
        "\n",
        "import os\n",
        "from google.colab import userdata\n",
        "\n",
        "os.environ[\"GOOGLE_API_KEY\"] = userdata.get('GOOGLE_API_KEY')"
      ],
      "metadata": {
        "id": "NfCqHo1tLk8P"
      },
      "execution_count": null,
      "outputs": []
    },
    {
      "cell_type": "code",
      "source": [
        "# Configura o cliente da SDK do Gemini\n",
        "\n",
        "from google import genai\n",
        "\n",
        "client = genai.Client()\n",
        "\n",
        "MODEL_ID = \"gemini-2.0-flash\""
      ],
      "metadata": {
        "id": "bV4w0H5TLk5g"
      },
      "execution_count": null,
      "outputs": []
    },
    {
      "cell_type": "code",
      "source": [
        "# Pergunta ao Gemini uma informação mais recente que seu conhecimento\n",
        "\n",
        "from IPython.display import HTML, Markdown\n",
        "\n",
        "# Perguntar pro modelo quando é a próxima imersão de IA ###############################################\n",
        "resposta = client.models.generate_content(\n",
        "    model=MODEL_ID,\n",
        "    contents='Quando a melhor época do ano para viajar para a Coreia do Sul?',\n",
        ")\n",
        "\n",
        "# Exibe a resposta na tela\n",
        "display(Markdown(f\"Resposta:\\n {resposta.text}\"))"
      ],
      "metadata": {
        "colab": {
          "base_uri": "https://localhost:8080/",
          "height": 1000
        },
        "id": "Y9cBAz02xZt9",
        "outputId": "9aa2f8d8-cd7b-4069-9e9c-6859c0f61e3a",
        "collapsed": true
      },
      "execution_count": null,
      "outputs": [
        {
          "output_type": "display_data",
          "data": {
            "text/plain": [
              "<IPython.core.display.Markdown object>"
            ],
            "text/markdown": "Resposta:\n A melhor época do ano para viajar para a Coreia do Sul depende muito dos seus interesses e do que você deseja experimentar durante a sua viagem. Aqui está um resumo das vantagens e desvantagens de cada estação:\n\n**Primavera (Abril - Maio):**\n\n*   **Vantagens:**\n    *   Clima agradável e ameno, perfeito para atividades ao ar livre.\n    *   A cerejeira em flor (Sakura) é um espetáculo à parte e atrai muitos turistas. Há diversos festivais e eventos relacionados à florada.\n    *   Boa época para visitar parques, jardins e templos.\n*   **Desvantagens:**\n    *   Alta temporada turística, o que significa preços mais altos em acomodações e voos, e mais multidões em pontos turísticos.\n    *   Pode haver alguma poluição do ar (poeira amarela vinda do deserto de Gobi).\n\n**Verão (Junho - Agosto):**\n\n*   **Vantagens:**\n    *   Ótimo para aproveitar as praias e atividades aquáticas.\n    *   Festivais de verão vibrantes e animados.\n    *   Época de folga para muitos coreanos, o que pode significar um ambiente mais festivo.\n*   **Desvantagens:**\n    *   Calor e umidade intensos, com possibilidade de monções e tufões.\n    *   Alta temporada turística, especialmente em julho e agosto.\n    *   Preços mais altos e multidões.\n\n**Outono (Setembro - Novembro):**\n\n*   **Vantagens:**\n    *   Clima fresco e agradável, com céu azul e sol.\n    *   As folhagens de outono pintam a paisagem com cores vibrantes, proporcionando paisagens deslumbrantes.\n    *   Boa época para caminhadas, trilhas e atividades ao ar livre.\n    *   Menos turistas do que na primavera e no verão.\n*   **Desvantagens:**\n    *   Pode haver alguns tufões no início de setembro.\n    *   Ocasionalmente, pode haver dias com nevoeiro.\n\n**Inverno (Dezembro - Fevereiro):**\n\n*   **Vantagens:**\n    *   Paisagens cobertas de neve, ideais para quem gosta de esquiar e praticar snowboard.\n    *   Festivais de inverno e eventos temáticos.\n    *   Baixa temporada turística, o que significa preços mais baixos e menos multidões.\n*   **Desvantagens:**\n    *   Frio intenso, com temperaturas abaixo de zero e neve.\n    *   Algumas atrações podem estar fechadas ou com horários reduzidos.\n    *   Menos atividades ao ar livre disponíveis.\n\n**Em resumo:**\n\n*   **Para clima agradável e cerejeiras em flor:** Abril e Maio.\n*   **Para praias e festivais de verão:** Junho a Agosto.\n*   **Para paisagens de outono e clima fresco:** Setembro a Novembro.\n*   **Para esquiar e neve:** Dezembro a Fevereiro.\n\n**Considerações adicionais:**\n\n*   **Festivais:** Se você tem interesse em algum festival específico, verifique as datas com antecedência e planeje sua viagem de acordo.\n*   **Orçamento:** Os preços de voos e acomodações variam muito ao longo do ano. Se você está viajando com um orçamento limitado, considere viajar na baixa temporada (inverno ou meados da primavera e outono).\n*   **Interesses pessoais:** Se você gosta de atividades ao ar livre, a primavera e o outono são as melhores opções. Se você prefere esportes de inverno, o inverno é a melhor época. Se você quer relaxar na praia, o verão é a escolha certa.\n\nEspero que estas informações ajudem você a decidir a melhor época para sua viagem à Coreia do Sul!"
          },
          "metadata": {}
        }
      ]
    },
    {
      "cell_type": "code",
      "source": [
        "# Pergunta ao Gemini uma informação utilizando a busca do Google como contexto\n",
        "\n",
        "response = client.models.generate_content(\n",
        "    model=MODEL_ID,\n",
        "    contents='Qual a sua recomedação para eu fazer a minha viagem para a Coreia do Sul?',\n",
        "    config={\"tools\": [{\"google_search\": {}}]}\n",
        ")\n",
        "\n",
        "# Exibe a resposta na tela\n",
        "display(Markdown(f\"Resposta:\\n {response.text}\"))"
      ],
      "metadata": {
        "colab": {
          "base_uri": "https://localhost:8080/",
          "height": 587
        },
        "id": "lc2JPA92xbnp",
        "outputId": "0058df54-6d45-40a2-e79d-a700d38763c1",
        "collapsed": true
      },
      "execution_count": null,
      "outputs": [
        {
          "output_type": "display_data",
          "data": {
            "text/plain": [
              "<IPython.core.display.Markdown object>"
            ],
            "text/markdown": "Resposta:\n Aqui estão algumas dicas para planejar sua viagem para a Coreia do Sul:\n\n*   **Melhor época para visitar:** A primavera (abril a junho) e o outono (setembro a novembro) são geralmente considerados os melhores meses para visitar a Coreia do Sul, devido ao clima agradável e às belas paisagens. O verão (junho a agosto) pode ser quente e úmido, enquanto o inverno (dezembro a fevereiro) é frio e seco.\n\n*   **Requisitos de visto:** A maioria dos viajantes pode entrar na Coreia do Sul sem visto para fins de turismo por um determinado período, dependendo da nacionalidade. Verifique os requisitos de visto específicos com a embaixada ou consulado da Coreia do Sul em seu país antes de viajar.\n\n*   **Transporte:** A Coreia do Sul possui um sistema de transporte público bem desenvolvido, incluindo trens, ônibus e metrôs. O Korea Rail Pass está disponível para viajantes que planejam usar trens com frequência. Os táxis também são prontamente acessíveis nas cidades.\n\n*   **Acomodação:** Uma variedade de opções de acomodação estão disponíveis na Coreia do Sul, desde hotéis de luxo até pousadas econômicas. Os hanoks (casas tradicionais coreanas) oferecem uma experiência cultural única.\n\n*   **Língua:** O idioma oficial é o coreano. O inglês é falado em áreas turísticas, mas aprender algumas frases básicas em coreano pode melhorar sua experiência de viagem.\n\n*   **Moeda:** A moeda é o Won sul-coreano (KRW). Os cartões de crédito são amplamente aceitos, mas ter algum dinheiro em mãos é recomendado para pequenos estabelecimentos e mercados de rua.\n\n*   **Cultura:** A Coreia do Sul tem uma cultura rica e vibrante. Respeite os costumes e a etiqueta locais, como tirar os sapatos ao entrar nas casas e usar as duas mãos ao dar ou receber objetos.\n\n*   **Comida:** A culinária coreana é conhecida por seus sabores ousados e ingredientes saudáveis. Não deixe de experimentar pratos populares como kimchi, bibimbap, bulgogi e tteokbokki.\n\n*   **Atividades:** A Coreia do Sul oferece uma ampla gama de atividades para atender a todos os interesses. Visite locais históricos como palácios e templos, explore cidades vibrantes como Seul e Busan ou caminhe pelas belas paisagens naturais.\n\nPara uma viagem mais tranquila, aqui estão algumas opções de passeios e atividades que você pode fazer:\n\n*   **Excursão de meio dia ao Patrimônio Mundial da UNESCO: Fortaleza de Hwaseong:** Explore a impressionante Fortaleza de Hwaseong, Patrimônio Mundial da UNESCO, nesta excursão de meio dia. Aprenda sobre sua fascinante história e admire a bela arquitetura.\n*   **[Passeio personalizado] Seul: Passeio a pé histórico personalizado de 3 horas:** Descubra a rica história de Seul com um passeio a pé personalizado. Adapte o itinerário aos seus interesses e visite marcos icônicos.\n*   **[Atividade com desconto] Seul Land Combo Ticket:** Desfrute de um dia de diversão no Seul Land com este bilhete combo. Experimente emocionantes passeios, shows e atrações para todas as idades.\n\nEspero que essas dicas ajudem você a planejar uma viagem inesquecível para a Coreia do Sul!\n"
          },
          "metadata": {}
        }
      ]
    },
    {
      "cell_type": "code",
      "source": [
        "from IPython.display import HTML, display\n",
        "\n",
        "def exibir_informacoes_grounding(response):\n",
        "    try:\n",
        "        candidate = response.candidates[0]\n",
        "        metadata = candidate.grounding_metadata\n",
        "\n",
        "        # Busca realizada\n",
        "        busca = metadata.web_search_queries or \"Nenhuma busca realizada\"\n",
        "        print(f\"🔍 Busca realizada: {busca}\")\n",
        "\n",
        "        # Páginas utilizadas\n",
        "        grounding_chunks = metadata.grounding_chunks\n",
        "        if grounding_chunks:\n",
        "            paginas = ', '.join([site.web.title for site in grounding_chunks])\n",
        "        else:\n",
        "            paginas = \"Nenhuma página utilizada\"\n",
        "        print(f\"🌐 Páginas utilizadas na resposta: {paginas}\\n\")\n",
        "\n",
        "        # Conteúdo HTML, se houver\n",
        "        if metadata.search_entry_point:\n",
        "            display(HTML(metadata.search_entry_point.rendered_content))\n",
        "        else:\n",
        "            print(\"❌ Nenhum conteúdo HTML disponível para exibição.\")\n",
        "\n",
        "    except Exception as e:\n",
        "        print(f\"⚠️ Erro ao exibir informações: {e}\")\n"
      ],
      "metadata": {
        "id": "6Cg0KNJGMgC5"
      },
      "execution_count": null,
      "outputs": []
    },
    {
      "cell_type": "code",
      "source": [
        "# Instalar Framework de agentes do Google ################################################\n",
        "!pip install -q google-adk"
      ],
      "metadata": {
        "colab": {
          "base_uri": "https://localhost:8080/"
        },
        "id": "a1eRPalxEnj7",
        "outputId": "f98d8427-dd4d-436d-a294-d6571ec517e5",
        "collapsed": true
      },
      "execution_count": null,
      "outputs": [
        {
          "output_type": "stream",
          "name": "stdout",
          "text": [
            "\u001b[?25l   \u001b[90m━━━━━━━━━━━━━━━━━━━━━━━━━━━━━━━━━━━━━━━━\u001b[0m \u001b[32m0.0/1.2 MB\u001b[0m \u001b[31m?\u001b[0m eta \u001b[36m-:--:--\u001b[0m\r\u001b[2K   \u001b[91m━━━━━━━━━━━━━━━━━━━━━━\u001b[0m\u001b[90m╺\u001b[0m\u001b[90m━━━━━━━━━━━━━━━━━\u001b[0m \u001b[32m0.7/1.2 MB\u001b[0m \u001b[31m19.8 MB/s\u001b[0m eta \u001b[36m0:00:01\u001b[0m\r\u001b[2K   \u001b[90m━━━━━━━━━━━━━━━━━━━━━━━━━━━━━━━━━━━━━━━━\u001b[0m \u001b[32m1.2/1.2 MB\u001b[0m \u001b[31m17.6 MB/s\u001b[0m eta \u001b[36m0:00:00\u001b[0m\n",
            "\u001b[?25h\u001b[?25l   \u001b[90m━━━━━━━━━━━━━━━━━━━━━━━━━━━━━━━━━━━━━━━━\u001b[0m \u001b[32m0.0/232.1 kB\u001b[0m \u001b[31m?\u001b[0m eta \u001b[36m-:--:--\u001b[0m\r\u001b[2K   \u001b[90m━━━━━━━━━━━━━━━━━━━━━━━━━━━━━━━━━━━━━━━━\u001b[0m \u001b[32m232.1/232.1 kB\u001b[0m \u001b[31m13.3 MB/s\u001b[0m eta \u001b[36m0:00:00\u001b[0m\n",
            "\u001b[?25h\u001b[?25l   \u001b[90m━━━━━━━━━━━━━━━━━━━━━━━━━━━━━━━━━━━━━━━━\u001b[0m \u001b[32m0.0/95.2 kB\u001b[0m \u001b[31m?\u001b[0m eta \u001b[36m-:--:--\u001b[0m\r\u001b[2K   \u001b[90m━━━━━━━━━━━━━━━━━━━━━━━━━━━━━━━━━━━━━━━━\u001b[0m \u001b[32m95.2/95.2 kB\u001b[0m \u001b[31m5.8 MB/s\u001b[0m eta \u001b[36m0:00:00\u001b[0m\n",
            "\u001b[?25h\u001b[?25l   \u001b[90m━━━━━━━━━━━━━━━━━━━━━━━━━━━━━━━━━━━━━━━━\u001b[0m \u001b[32m0.0/217.1 kB\u001b[0m \u001b[31m?\u001b[0m eta \u001b[36m-:--:--\u001b[0m\r\u001b[2K   \u001b[90m━━━━━━━━━━━━━━━━━━━━━━━━━━━━━━━━━━━━━━━━\u001b[0m \u001b[32m217.1/217.1 kB\u001b[0m \u001b[31m13.1 MB/s\u001b[0m eta \u001b[36m0:00:00\u001b[0m\n",
            "\u001b[?25h\u001b[?25l   \u001b[90m━━━━━━━━━━━━━━━━━━━━━━━━━━━━━━━━━━━━━━━━\u001b[0m \u001b[32m0.0/334.1 kB\u001b[0m \u001b[31m?\u001b[0m eta \u001b[36m-:--:--\u001b[0m\r\u001b[2K   \u001b[90m━━━━━━━━━━━━━━━━━━━━━━━━━━━━━━━━━━━━━━━━\u001b[0m \u001b[32m334.1/334.1 kB\u001b[0m \u001b[31m20.3 MB/s\u001b[0m eta \u001b[36m0:00:00\u001b[0m\n",
            "\u001b[2K   \u001b[90m━━━━━━━━━━━━━━━━━━━━━━━━━━━━━━━━━━━━━━━━\u001b[0m \u001b[32m125.1/125.1 kB\u001b[0m \u001b[31m7.6 MB/s\u001b[0m eta \u001b[36m0:00:00\u001b[0m\n",
            "\u001b[2K   \u001b[90m━━━━━━━━━━━━━━━━━━━━━━━━━━━━━━━━━━━━━━━━\u001b[0m \u001b[32m65.8/65.8 kB\u001b[0m \u001b[31m3.5 MB/s\u001b[0m eta \u001b[36m0:00:00\u001b[0m\n",
            "\u001b[2K   \u001b[90m━━━━━━━━━━━━━━━━━━━━━━━━━━━━━━━━━━━━━━━━\u001b[0m \u001b[32m119.0/119.0 kB\u001b[0m \u001b[31m8.0 MB/s\u001b[0m eta \u001b[36m0:00:00\u001b[0m\n",
            "\u001b[2K   \u001b[90m━━━━━━━━━━━━━━━━━━━━━━━━━━━━━━━━━━━━━━━━\u001b[0m \u001b[32m194.9/194.9 kB\u001b[0m \u001b[31m12.1 MB/s\u001b[0m eta \u001b[36m0:00:00\u001b[0m\n",
            "\u001b[2K   \u001b[90m━━━━━━━━━━━━━━━━━━━━━━━━━━━━━━━━━━━━━━━━\u001b[0m \u001b[32m62.5/62.5 kB\u001b[0m \u001b[31m3.7 MB/s\u001b[0m eta \u001b[36m0:00:00\u001b[0m\n",
            "\u001b[2K   \u001b[90m━━━━━━━━━━━━━━━━━━━━━━━━━━━━━━━━━━━━━━━━\u001b[0m \u001b[32m103.3/103.3 kB\u001b[0m \u001b[31m5.7 MB/s\u001b[0m eta \u001b[36m0:00:00\u001b[0m\n",
            "\u001b[2K   \u001b[90m━━━━━━━━━━━━━━━━━━━━━━━━━━━━━━━━━━━━━━━━\u001b[0m \u001b[32m44.4/44.4 kB\u001b[0m \u001b[31m2.7 MB/s\u001b[0m eta \u001b[36m0:00:00\u001b[0m\n",
            "\u001b[2K   \u001b[90m━━━━━━━━━━━━━━━━━━━━━━━━━━━━━━━━━━━━━━━━\u001b[0m \u001b[32m72.0/72.0 kB\u001b[0m \u001b[31m4.7 MB/s\u001b[0m eta \u001b[36m0:00:00\u001b[0m\n",
            "\u001b[?25h"
          ]
        }
      ]
    },
    {
      "cell_type": "code",
      "execution_count": null,
      "metadata": {
        "id": "aePV2bdfDeoW"
      },
      "outputs": [],
      "source": [
        "from google.adk.agents import Agent\n",
        "from google.adk.runners import Runner\n",
        "from google.adk.sessions import InMemorySessionService\n",
        "from google.adk.tools import google_search\n",
        "from google.genai import types  # Para criar conteúdos (Content e Part)\n",
        "from datetime import date\n",
        "import textwrap # Para formatar melhor a saída de texto\n",
        "from IPython.display import display, Markdown # Para exibir texto formatado no Colab\n",
        "import requests # Para fazer requisições HTTP\n",
        "import warnings\n",
        "\n",
        "warnings.filterwarnings(\"ignore\")"
      ]
    },
    {
      "cell_type": "code",
      "source": [
        "# Função auxiliar que envia uma mensagem para um agente via Runner e retorna a resposta final\n",
        "def call_agent(agent: Agent, message_text: str) -> str:\n",
        "    # Cria um serviço de sessão em memória\n",
        "    session_service = InMemorySessionService()\n",
        "    # Cria uma nova sessão (você pode personalizar os IDs conforme necessário)\n",
        "    session = session_service.create_session(app_name=agent.name, user_id=\"user1\", session_id=\"session1\")\n",
        "    # Cria um Runner para o agente\n",
        "    runner = Runner(agent=agent, app_name=agent.name, session_service=session_service)\n",
        "    # Cria o conteúdo da mensagem de entrada\n",
        "    content = types.Content(role=\"user\", parts=[types.Part(text=message_text)])\n",
        "\n",
        "    final_response = \"\"\n",
        "    # Itera assincronamente pelos eventos retornados durante a execução do agente\n",
        "    for event in runner.run(user_id=\"user1\", session_id=\"session1\", new_message=content):\n",
        "        if event.is_final_response():\n",
        "          for part in event.content.parts:\n",
        "            if part.text is not None:\n",
        "              final_response += part.text\n",
        "              final_response += \"\\n\"\n",
        "    return final_response"
      ],
      "metadata": {
        "id": "_xP4lWhsS5ko"
      },
      "execution_count": null,
      "outputs": []
    },
    {
      "cell_type": "code",
      "source": [
        "# Função auxiliar para exibir texto formatado em Markdown no Colab\n",
        "def to_markdown(text):\n",
        "  text = text.replace('•', '  *')\n",
        "  return Markdown(textwrap.indent(text, '> ', predicate=lambda _: True))"
      ],
      "metadata": {
        "id": "8dosiodaxfFR"
      },
      "execution_count": null,
      "outputs": []
    },
    {
      "cell_type": "code",
      "source": [
        "##########################################\n",
        "# --- Agente 1: Buscador de Notícias --- #\n",
        "##########################################\n",
        "def agente_buscador(topico, data_de_hoje):\n",
        "\n",
        "    buscador = Agent(\n",
        "        name=\"agente_buscador\",\n",
        "        model=\"gemini-2.0-flash\",\n",
        "        instruction=\"\"\"\n",
        "        Você é um assistente de pesquisa especializado em viagens. Sua tarefa é usar a ferramenta de busca do Google (google_search)\n",
        "        para recuperar as notícias e lançamentos mais recentes e relevantes sobre o tópico abaixo, relacionado a uma viagem para a Coreia do Sul.\n",
        "\n",
        "        Busque no máximo 5 tópicos de destaque, como:\n",
        "      - eventos culturais e festivais que acontecerão em breve,\n",
        "      - novidades no setor de turismo (como novas atrações, abertura de museus, parques ou experiências culturais),\n",
        "      - atualizações relevantes sobre transporte, regras de entrada, clima ou mudanças que impactem viajantes,\n",
        "      - lançamentos de produtos ou serviços úteis para turistas (aplicativos, guias, passes de transporte, etc).\n",
        "\n",
        "      Dê preferência a conteúdos empolgantes e recentes (no máximo um mês antes da data informada).\n",
        "      Evite itens com pouca repercussão ou baixa relevância para quem está planejando a viagem.\n",
        "        \"\"\",\n",
        "        description=\"Agente que busca informações no Google\",\n",
        "        tools=[google_search]\n",
        "    )\n",
        "\n",
        "    entrada_do_agente_buscador = f\"Tópico: {topico}\\nData de hoje: {data_de_hoje}\"\n",
        "\n",
        "    lancamentos = call_agent(buscador, entrada_do_agente_buscador)\n",
        "    return lancamentos"
      ],
      "metadata": {
        "id": "o8bqIfi_DyH8"
      },
      "execution_count": null,
      "outputs": []
    },
    {
      "cell_type": "code",
      "source": [
        "################################################\n",
        "# --- Agente 2: Planejador de Viagem --- #\n",
        "################################################\n",
        "def agente_planejador(topico, lancamentos_buscados):\n",
        "    planejador = Agent(\n",
        "        name=\"agente_planejador\",\n",
        "        model=\"gemini-2.0-flash\",\n",
        "        # Inserir as instruções do Agente Planejador #################################################\n",
        "        instruction=\"\"\"\n",
        "        Você é um planejador de conteúdo especializado em viagens e redes sociais. Com base na lista de tópicos recentes e relevantes coletados pelo Agente Buscador, sua tarefa é:\n",
        "\n",
        "        1. Para cada tópico, use a ferramenta de busca do Google (google_search) para aprofundar informações práticas e inspiradoras, como dicas de locais, curiosidades culturais, logística (transporte, ingressos) e recomendações gastronômicas.\n",
        "        2. Gere pontos-chave que possam ser explorados em um post de redes sociais:\n",
        "        - Gancho inicial (fato curioso, evento imperdível, oportunidade exclusiva)\n",
        "        - Principais atrações, experiências ou serviços associados ao tópico\n",
        "        - Dicas práticas (horários, valores, links úteis, apps ou passes)\n",
        "        - Sugestões de fotos ou vídeos que valorizem o conteúdo\n",
        "        3. Ao final, analise os temas pesquisados e selecione aquele com maior apelo para o público viajante (pela novidade, receptividade nas notícias e aplicabilidade prática).\n",
        "        4. Retorne:\n",
        "        - O tema escolhido\n",
        "        - Uma justificativa de por que ele é o mais relevante\n",
        "        - Um esboço de plano de post (título sugestivo, estrutura de seções, call-to-action).\n",
        "\n",
        "        Use no máximo 5 tópicos e foque em informações atualizadas (até 1 mês antes da data fornecida).\n",
        "        \"\"\",\n",
        "        description=\"Agente que planeja posts\",\n",
        "        tools=[google_search]\n",
        "    )\n",
        "\n",
        "    entrada_do_agente_planejador = f\"Tópico:{topico}\\nLançamentos buscados: {lancamentos_buscados}\"\n",
        "    # Executa o agente\n",
        "    plano_do_post = call_agent(planejador, entrada_do_agente_planejador)\n",
        "    return plano_do_post"
      ],
      "metadata": {
        "id": "y3VO1uo5_ghO"
      },
      "execution_count": null,
      "outputs": []
    },
    {
      "cell_type": "code",
      "source": [
        "######################################\n",
        "# --- Agente 3: Redator do Post --- #\n",
        "######################################\n",
        "def agente_redator(topico, plano_de_post):\n",
        "    redator = Agent(\n",
        "        name=\"agente_redator\",\n",
        "        model=\"gemini-2.0-flash\",\n",
        "        instruction=\"\"\"\n",
        "            Você é um Redator Criativo especializado em produzir conteúdos envolventes e informativos para redes sociais, com foco em turismo, cultura e experiências de viagem.\n",
        "\n",
        "            Sua missão é criar um rascunho de post para o Instagram de uma empresa de turismo que inspira pessoas a explorarem novos destinos de forma autêntica e prática.\n",
        "\n",
        "            Com base no tema escolhido e no plano de post fornecido, escreva um texto que seja:\n",
        "            - Inspirador e com tom leve, como se estivesse conversando com o leitor\n",
        "            - Informativo, com dicas úteis sobre o destino ou experiência (ex: atrações, curiosidades, eventos, transporte)\n",
        "            - Criativo, com um gancho inicial que prenda a atenção nos primeiros segundos\n",
        "            - Finalizado com uma chamada para ação (CTA), como: “Você incluiria esse lugar no seu roteiro?”, “Já pensou em viver isso na sua próxima viagem?”, etc.\n",
        "\n",
        "            Use uma linguagem acessível, empolgante e próxima do público viajante. Ao final do post, inclua de 2 a 4 hashtags estratégicas (ex: #destinosincríveis #coreiadosul #viajarépreciso #turismocultural).\n",
        "\n",
        "            O texto deve ser ideal para um carrossel ou legenda de destaque no Instagram, com potencial de gerar comentários, salvamentos e compartilhamentos.\n",
        "            \"\"\",\n",
        "        description=\"Agente redator de posts engajadores para Instagram\"\n",
        "    )\n",
        "    entrada_do_agente_redator = f\"Tópico: {topico}\\nPlano de post: {plano_de_post}\"\n",
        "    # Executa o agente\n",
        "    rascunho = call_agent(redator, entrada_do_agente_redator)\n",
        "    return rascunho"
      ],
      "metadata": {
        "id": "uOqlg2TRLVh1"
      },
      "execution_count": null,
      "outputs": []
    },
    {
      "cell_type": "code",
      "source": [
        "##########################################\n",
        "# --- Agente 4: Revisor de Qualidade --- #\n",
        "##########################################\n",
        "def agente_revisor(topico, rascunho_gerado):\n",
        "    revisor = Agent(\n",
        "        name=\"agente_revisor\",\n",
        "        model=\"gemini-2.0-flash\",\n",
        "        instruction=\"\"\"\n",
        "          Você é um Editor e Revisor de Conteúdo com olhar atento e sensível à linguagem de redes sociais, especialmente para o Instagram. Seu foco é garantir que os textos estejam adequados para um público jovem (entre 18 e 30 anos), interessado em viagens e experiências culturais.\n",
        "\n",
        "          Sua tarefa é revisar o rascunho de post abaixo sobre o tema indicado, avaliando:\n",
        "          - Clareza da mensagem (o post é fácil de entender?)\n",
        "          - Concisão (o texto é direto e evita repetições desnecessárias?)\n",
        "          - Correção gramatical e ortográfica\n",
        "          - Tom de voz (está empolgante, acessível e adequado ao público?)\n",
        "\n",
        "          Se o rascunho estiver bem escrito e pronto para publicação, responda apenas com:\n",
        "          **'O rascunho está ótimo e pronto para publicar!'**\n",
        "\n",
        "          Se houver pontos a melhorar, aponte com objetividade o que precisa ser ajustado e sugira uma versão aprimorada do texto.\n",
        "\n",
        "          Lembre-se: o objetivo é manter o texto envolvente, informativo e com linguagem natural para redes sociais.\n",
        "            \"\"\",\n",
        "        description=\"Agente revisor de post para redes sociais.\"\n",
        "    )\n",
        "    entrada_do_agente_revisor = f\"Tópico: {topico}\\nRascunho: {rascunho_gerado}\"\n",
        "    # Executa o agente\n",
        "    texto_revisado = call_agent(revisor, entrada_do_agente_revisor)\n",
        "    return texto_revisado"
      ],
      "metadata": {
        "id": "_aTb1SdkLeT6"
      },
      "execution_count": null,
      "outputs": []
    },
    {
      "cell_type": "code",
      "source": [
        "data_de_hoje = date.today().strftime(\"%d/%m/%Y\")\n",
        "\n",
        "print(\"🚀 Iniciando o Sistema de Criação de Posts para Instagram com 4 Agentes 🚀\")\n",
        "\n",
        "# --- Obter o Tópico do Usuário ---\n",
        "topico = input(\"❓ Por favor, digite o TÓPICO sobre o qual você quer criar o post de tendências: \")\n",
        "\n",
        "# Inserir lógica do sistema de agentes ################################################\n",
        "if not topico:\n",
        "    print(\"Você esqueceu de digitar o tópico!\")\n",
        "else:\n",
        "    print(f\"Maravilha! Vamos então criar o post sobre novidades em {topico}\")\n",
        "\n",
        "    lancamentos_buscados = agente_buscador(topico, data_de_hoje)\n",
        "    print(\"\\n--- 📝 Resultado do Agente 1 (Buscador) ---\\n\")\n",
        "    display(to_markdown(lancamentos_buscados))\n",
        "    print(\"--------------------------------------------------------------\")\n",
        "\n",
        "    plano_de_post = agente_planejador(topico, lancamentos_buscados)\n",
        "    print(\"\\n--- 📝 Resultado do Agente 2 (Planejador) ---\\n\")\n",
        "    display(to_markdown(plano_de_post))\n",
        "    print(\"--------------------------------------------------------------\")\n",
        "\n",
        "    rascunho_de_post = agente_redator(topico, plano_de_post)\n",
        "    print(\"\\n--- 📝 Resultado do Agente 3 (Redator) ---\\n\")\n",
        "    display(to_markdown(rascunho_de_post))\n",
        "    print(\"--------------------------------------------------------------\")\n",
        "\n",
        "    post_final = agente_revisor(topico, rascunho_de_post)\n",
        "    print(\"\\n--- 📝 Resultado do Agente 4 (Revisor) ---\\n\")\n",
        "    display(to_markdown(post_final))\n",
        "    print(\"--------------------------------------------------------------\")"
      ],
      "metadata": {
        "id": "6xzI6LKzxxnN",
        "collapsed": true,
        "colab": {
          "base_uri": "https://localhost:8080/",
          "height": 1000
        },
        "outputId": "23e39d7c-7cd1-49f4-ae27-b0452b6b8052"
      },
      "execution_count": null,
      "outputs": [
        {
          "output_type": "stream",
          "name": "stdout",
          "text": [
            "🚀 Iniciando o Sistema de Criação de Posts para Instagram com 4 Agentes 🚀\n",
            "❓ Por favor, digite o TÓPICO sobre o qual você quer criar o post de tendências: coreia do sul\n",
            "Maravilha! Vamos então criar o post sobre novidades em coreia do sul\n",
            "\n",
            "--- 📝 Resultado do Agente 1 (Buscador) ---\n",
            "\n"
          ]
        },
        {
          "output_type": "display_data",
          "data": {
            "text/plain": [
              "<IPython.core.display.Markdown object>"
            ],
            "text/markdown": "> Aqui estão alguns tópicos de destaque e novidades sobre a Coreia do Sul que podem ser úteis para quem planeja uma viagem:\n> \n> \n> Com base nas informações mais recentes, aqui estão alguns tópicos de destaque e novidades sobre a Coreia do Sul que podem ser úteis para quem planeja uma viagem em maio de 2025:\n> \n> **1. Crescimento do Turismo e Foco em Experiências Culturais**\n> \n> *   O turismo na Coreia do Sul tem crescido, com um aumento de 35% no número de turistas brasileiros em 2024. A Korea Tourism Organization (KTO) busca manter essa média de crescimento em 2025, diversificando as experiências oferecidas.\n> *   Há uma aposta no \"luxo discreto\", com foco em design, tradição, história e hospitalidade, incluindo estadias em hanoks (pousadas tradicionais coreanas), noites em templos budistas e visitas à zona desmilitarizada (DMZ).\n> *   A cultura pop, incluindo K-Pop e cosméticos, continua sendo um atrativo importante, especialmente para o público jovem.\n> \n> **2. Eventos e Festivais**\n> \n> *   A Coreia do Sul lançou a Semana de Boas-Vindas à Coreia 2025, de 25 de abril a 16 de maio, com estandes multilíngues, oficinas de artesanato e assistência para turistas em aeroportos e portos.\n> *   A Câmara de Comércio e Indústria Portuguesa (CCIP) realizará uma ação de promoção do turismo português na Coreia do Sul de 21 a 25 de julho de 2025.\n> *   Há diversos festivais e eventos acontecendo ao longo do ano, incluindo o Festival de Lama Boryeong e o Festival Internacional de Flores de Goyang. Shows e festivais de música também são populares.\n> \n> **3. Requisitos de Entrada e Documentação**\n> \n> *   Cidadãos de Portugal estão temporariamente isentos da \"K-ETA\" (Autorização Eletrónica de Viagem da Coreia) para estadias de curta duração (inferior a 90 dias) até o final de 2025. No entanto, é recomendável verificar os requisitos específicos antes da viagem.\n> *   As autoridades sul-coreanas implementaram um sistema eletrônico para Declaração de Entrada Online (e-Arrival Card), que entrou em vigor em 24 de fevereiro de 2025. A declaração deve ser preenchida e submetida até 3 dias antes da chegada.\n> *   É importante verificar os requisitos de visto com os serviços consulares da Embaixada da República da Coreia em Lisboa.\n> \n> **4. Transporte e Infraestrutura**\n> \n> *   Seul está trabalhando para eliminar carros a diesel do setor público até 2025, substituindo-os por veículos elétricos e movidos a hidrogênio.\n> *   A Coreia do Sul possui um sistema de transporte público avançado, incluindo trens de alta velocidade KTX. Ônibus autônomos estarão disponíveis nas vias públicas até 2025 e carros até 2027.\n> \n> **5. Dicas e Informações Úteis**\n> \n> *   A Coreia do Sul é considerada um destino seguro. A água da torneira é potável e os cuidados de saúde são de alto padrão.\n> *   Alguns aplicativos úteis para turistas incluem KakaoTalk (mensagens), Coupang e Gmarket Global (compras online). O Kakao T é recomendado como aplicativo de táxi.\n> *   É importante estar ciente das etiqueta cultural, como evitar colocar os pauzinhos na vertical no arroz e evitar falar alto em público.\n> \n> Lembre-se de que as informações podem mudar, então é sempre bom verificar as fontes oficiais e os requisitos de viagem mais recentes antes de planejar sua viagem.\n"
          },
          "metadata": {}
        },
        {
          "output_type": "stream",
          "name": "stdout",
          "text": [
            "--------------------------------------------------------------\n",
            "\n",
            "--- 📝 Resultado do Agente 2 (Planejador) ---\n",
            "\n"
          ]
        },
        {
          "output_type": "display_data",
          "data": {
            "text/plain": [
              "<IPython.core.display.Markdown object>"
            ],
            "text/markdown": "> Com base nos tópicos fornecidos e nas pesquisas realizadas, aqui estão os pontos-chave para posts de redes sociais sobre a Coreia do Sul:\n> \n> **1. Crescimento do Turismo e Foco em Experiências Culturais**\n> \n> *   **Gancho:** A Coreia do Sul está bombando no turismo! Sabia que o número de brasileiros aumentou 35% em 2024? Em 2025, o foco é no \"luxo discreto\" e experiências culturais autênticas.\n> *   **Atrações/Experiências:**\n>     *   Estadias em Hanoks: Pousadas tradicionais coreanas com arquitetura única.\n>     *   Noites em templos budistas: Uma experiência de imersão na cultura local.\n>     *   Visitas à DMZ: A zona desmilitarizada, um lugar histórico e tenso.\n>     *   Cultura K-Pop e cosméticos: Para os fãs da onda coreana.\n> *   **Dicas Práticas:**\n>     *   Pesquise e reserve Hanoks com antecedência.\n>     *   Verifique os horários de visitação dos templos.\n>     *   Agências de turismo oferecem tours guiados à DMZ.\n> *   **Sugestões Visuais:**\n>     *   Fotos de Hanoks charmosos e coloridos.\n>     *   Vídeos de rituais em templos budistas.\n>     *   Imagens impactantes da DMZ.\n>     *   Montagens com produtos de K-Pop e beleza.\n> \n> **2. Eventos e Festivais**\n> \n> *   **Gancho:** A Coreia do Sul te espera de braços abertos! A \"Semana de Boas-Vindas à Coreia\" rola até 16 de maio de 2025, com estandes e oficinas.\n> *   **Atrações/Experiências:**\n>     *   Semana de Boas-Vindas à Coreia: Oficinas de artesanato e assistência.\n>     *   Festival de Lama Boryeong: Uma experiência divertida e diferente.\n>     *   Festival Internacional de Flores de Goyang: Cores e beleza em um só lugar.\n>     *   Shows e festivais de música K-Pop: Para os amantes da música coreana.\n> *   **Dicas Práticas:**\n>     *   Consulte a programação da Semana de Boas-Vindas.\n>     *   Compre ingressos para os festivais com antecedência.\n>     *   Verifique a agenda de shows de K-Pop.\n> *   **Sugestões Visuais:**\n>     *   Fotos dos estandes da Semana de Boas-Vindas.\n>     *   Vídeos da galera se divertindo no Festival de Lama.\n>     *   Imagens das flores no Festival de Goyang.\n>     *   Clips de shows de K-Pop.\n> \n> **3. Requisitos de Entrada e Documentação**\n> \n> *   **Gancho:** Vai pra Coreia? Fique ligado nas novas regras! Desde fevereiro de 2025, tem \"e-Arrival Card\".\n> *   **Atrações/Experiências:**\n>     *   e-Arrival Card: Declaração de entrada online obrigatória.\n>     *   Isenção temporária do K-ETA: Para estadias curtas (até o fim de 2025).\n> *   **Dicas Práticas:**\n>     *   Preencha o e-Arrival Card até 3 dias antes da viagem.\n>     *   Verifique os requisitos de visto no site da Embaixada.\n> *   **Sugestões Visuais:**\n>     *   Prints da tela do e-Arrival Card.\n>     *   Infográfico com os passos para preencher o formulário.\n>     *   Vídeo explicativo sobre o K-ETA.\n> \n> **4. Transporte e Infraestrutura**\n> \n> *   **Gancho:** Seul está cada vez mais verde! Até 2025, os carros a diesel do governo serão substituídos por elétricos e a hidrogênio.\n> *   **Atrações/Experiências:**\n>     *   Transporte público avançado: Trens de alta velocidade KTX.\n>     *   Ônibus autônomos: Já em circulação (2025).\n>     *   Aplicativos úteis: KakaoTalk, Coupang, Gmarket, Kakao T.\n> *   **Dicas Práticas:**\n>     *   Use o KTX para viajar entre cidades.\n>     *   Baixe o Kakao T para pedir táxis.\n> *   **Sugestões Visuais:**\n>     *   Fotos dos trens KTX.\n>     *   Vídeos dos ônibus autônomos.\n>     *   Prints da tela do Kakao T.\n> \n> **5. Dicas e Informações Úteis**\n> \n> *   **Gancho:** Tranquilidade na sua viagem! A Coreia do Sul é um país seguro, com água potável e ótimos serviços de saúde.\n> *   **Atrações/Experiências:**\n>     *   Segurança: Um destino seguro para viajantes.\n>     *   Etiqueta cultural: Atenção aos costumes locais.\n> *   **Dicas Práticas:**\n>     *   Evite colocar os hashis na vertical no arroz.\n>     *   Não fale alto em público.\n> *   **Sugestões Visuais:**\n>     *   Fotos de placas informativas sobre etiqueta.\n>     *   Vídeos curtos sobre costumes coreanos.\n> \n> **Tema Escolhido:** Requisitos de Entrada e Documentação (e-Arrival Card)\n> \n> **Justificativa:** Este tema é o mais relevante porque oferece informações práticas e atualizadas que impactam diretamente o planejamento da viagem. O e-Arrival Card é uma novidade para 2025 e gera muitas dúvidas nos viajantes.\n> \n> **Esboço do Plano de Post:**\n> \n> *   **Título:** Coreia do Sul: Tudo sobre o Novo e-Arrival Card (2025)\n> *   **Seções:**\n>     *   O que é o e-Arrival Card?\n>     *   Quem precisa?\n>     *   Como preencher (passo a passo).\n>     *   Prazos e Validade.\n>     *   Dicas Extras.\n> *   **Call-to-Action:**\n>     *   Marque um amigo que vai pra Coreia!\n>     *   Compartilhe este post para ajudar outros viajantes!\n>     *   Acesse o link na bio para mais informações e o link oficial do e-Arrival Card.\n> \n"
          },
          "metadata": {}
        },
        {
          "output_type": "stream",
          "name": "stdout",
          "text": [
            "--------------------------------------------------------------\n",
            "\n",
            "--- 📝 Resultado do Agente 3 (Redator) ---\n",
            "\n"
          ]
        },
        {
          "output_type": "display_data",
          "data": {
            "text/plain": [
              "<IPython.core.display.Markdown object>"
            ],
            "text/markdown": "> ✨🇰🇷 Alerta Coreia do Sul: Mudanças Importantes para sua Próxima Aventura! 🇰🇷✨\n> \n> Já está com viagem marcada para a terra do kimchi e do K-Pop em 2025? Então, este post é PRA VOCÊ! 😉\n> \n> A Coreia do Sul está sempre inovando para facilitar a vida dos turistas, e uma das novidades é o **e-Arrival Card**, um formulário online super importante que você precisa conhecer!\n> \n> ➡️ **O que é o e-Arrival Card?** É uma declaração de entrada digital OBRIGATÓRIA para quem viaja à Coreia do Sul. Pense nele como uma versão moderna daquele formulário de imigração em papel, só que beeem mais prático!\n> \n> 🤔 **Quem precisa preencher?** Quase todo mundo! Mas fique tranquilo, a boa notícia é que, por enquanto (até o fim de 2025), brasileiros estão isentos do K-ETA (outro documento), então foque no e-Arrival Card!\n> \n> 📝 **Como preencher?** Relaxa, é simples!\n>     1.  Acesse o site oficial (link na bio!).\n>     2.  Preencha com seus dados (passaporte, informações de voo, etc.).\n>     3.  Revise tudo com atenção.\n>     4.  Envie!\n> \n> ⏰ **Prazos e validade:** Preencha o e-Arrival Card com, no máximo, 3 dias de antecedência da sua viagem. Ele é válido para uma única entrada, então, se for viajar mais vezes, terá que preencher de novo, ok?\n> \n> 💡 **Dica extra:** Tenha o QR code do e-Arrival Card salvo no seu celular e impresso. Assim, você evita perrengues caso a internet não colabore!\n> \n> E aí, curtiu a dica? Marca nos comentários aquele amigo(a) que está planejando ir pra Coreia do Sul e compartilhe este post para que mais pessoas fiquem por dentro dessa novidade! Ah, e não se esqueça de conferir o link na bio para acessar o site oficial do e-Arrival Card e planejar sua viagem sem preocupações! 😉\n> \n> #CoreiadoSul #eArrivalCard #DicasdeViagem #TurismoCoreia\n> \n"
          },
          "metadata": {}
        },
        {
          "output_type": "stream",
          "name": "stdout",
          "text": [
            "--------------------------------------------------------------\n",
            "\n",
            "--- 📝 Resultado do Agente 4 (Revisor) ---\n",
            "\n"
          ]
        },
        {
          "output_type": "display_data",
          "data": {
            "text/plain": [
              "<IPython.core.display.Markdown object>"
            ],
            "text/markdown": "> O rascunho precisa de alguns ajustes para otimizar a linguagem e a experiência do usuário.\n> \n> **Pontos a melhorar:**\n> \n> *   **Repetição:** A frase \"Coreia do Sul\" é repetida várias vezes. Tente variar para manter o texto mais dinâmico.\n> *   **K-ETA:** A informação sobre o K-ETA pode confundir o leitor, já que brasileiros estão isentos. Sugiro simplificar essa parte.\n> *   **Chamada para ação (CTA):** A CTA no final pode ser mais direta e convidativa.\n> \n> **Sugestão de texto revisado:**\n> \n> ✨🇰🇷 Alerta Seul: Facilidade extra na sua aventura coreana! 🇰🇷✨\n> \n> Partiu rolezinho na terra do kimchi e do K-Pop em 2025? Então, liga só nessa dica! 😉\n> \n> A Coreia está sempre inovando para facilitar a vida dos turistas, e a novidade da vez é o **e-Arrival Card**: um formulário online que vai otimizar sua entrada no país!\n> \n> ➡️ **O que é o e-Arrival Card?** É uma declaração de entrada digital OBRIGATÓRIA! Tipo um formulário de imigração modernoso e superprático.\n> \n> 🤔 **Quem precisa preencher?** Quase todo mundo! Brasileiros, fiquem ligados: por enquanto, o foco é no e-Arrival Card, então bora preencher!\n> \n> 📝 **Como preencher?** Tranquilo, é facinho:\n> \n> 1.  Corre pro site oficial (link na bio!).\n> 2.  Preenche com seus dados (passaporte, voo, etc.).\n> 3.  Dá uma revisada geral.\n> 4.  Envia!\n> \n> ⏰ **Prazos:** Preencha o e-Arrival Card com até 3 dias de antecedência da viagem. Ele vale para uma entrada só, então, se você for voltar, tem que preencher de novo, beleza?\n> \n> 💡 **Dica:** Salva o QR code do e-Arrival Card no celular e faz um print. Assim, se a internet não ajudar, você já tem tudo à mão!\n> \n> Curtiu? Marca aquele amigo(a) que tá sonhando com a Coreia e manda esse post pra geral ficar por dentro! E não esquece: clica no link da bio pra acessar o site oficial do e-Arrival Card e planejar tudo sem estresse! 😉\n> \n> #CoreiadoSul #eArrivalCard #DicasdeViagem #TurismoCoreia\n> \n"
          },
          "metadata": {}
        },
        {
          "output_type": "stream",
          "name": "stdout",
          "text": [
            "--------------------------------------------------------------\n"
          ]
        }
      ]
    }
  ]
}